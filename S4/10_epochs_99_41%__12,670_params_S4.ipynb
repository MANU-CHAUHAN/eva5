{
 "cells": [
  {
   "cell_type": "code",
   "execution_count": 1,
   "metadata": {
    "colab": {},
    "colab_type": "code",
    "id": "5lXTyppFom-A"
   },
   "outputs": [],
   "source": [
    "import torch\n",
    "from tqdm import tqdm\n",
    "import torch.nn as nn\n",
    "import torch.nn.functional as F\n",
    "import torch.optim as optim\n",
    "from torchvision import datasets, transforms\n",
    "from torchsummary import summary\n",
    "import time"
   ]
  },
  {
   "cell_type": "code",
   "execution_count": 2,
   "metadata": {
    "colab": {},
    "colab_type": "code",
    "id": "A1U6sL4fxsPz"
   },
   "outputs": [],
   "source": [
    "class Net2(nn.Module):\n",
    "  def __init__(self):\n",
    "      super(Net2, self).__init__()\n",
    "\n",
    "      self.conv1 = nn.Conv2d(1,12,3, padding=1)\n",
    "      self.bn_1 = nn.BatchNorm2d(num_features=12)\n",
    "      self.do_1 = nn.Dropout(0.14)\n",
    "\n",
    "      self.conv2 = nn.Conv2d(12, 16, 3)\n",
    "      self.bn_2 = nn.BatchNorm2d(num_features=16)\n",
    "      self.do_2 = nn.Dropout(0.14)\n",
    "      \n",
    "      self.conv3 = nn.Conv2d(16, 10, 1)\n",
    "      self.bn_3 = nn.BatchNorm2d(num_features=10)\n",
    "      \n",
    "      self.pool1 = nn.MaxPool2d(2,2)\n",
    "\n",
    "      self.conv4 = nn.Conv2d(10, 20, 3)\n",
    "      self.bn_4 = nn.BatchNorm2d(num_features=20)\n",
    "      self.do_4 = nn.Dropout(p=0.14)\n",
    "\n",
    "      self.conv5 = nn.Conv2d(20, 16, 3)\n",
    "      self.bn_5 = nn.BatchNorm2d(num_features=16)\n",
    "      self.do_5 = nn.Dropout(0.14)\n",
    "\n",
    "      self.conv6 = nn.Conv2d(16, 16, 3)\n",
    "      self.bn_6 = nn.BatchNorm2d(num_features=16)\n",
    "      self.do_6 = nn.Dropout(0.13)\n",
    "\n",
    "      self.conv7 = nn.Conv2d(16, 10, 3)\n",
    "      self.bn_7 = nn.BatchNorm2d(num_features=10)\n",
    "      self.do_7 = nn.Dropout(0.14)\n",
    "\n",
    "\n",
    "      # self.conv_1x1_1 = nn.Conv2d(20, 10, 1)\n",
    "      # self.bn_1x1_1 = nn.BatchNorm2d(num_features=10)\n",
    "      # self.do_4 = nn.Dropout(p=0.12)\n",
    "\n",
    "      self.conv8 = nn.Conv2d(10, 10, 3)\n",
    "      self.bn_8 = nn.BatchNorm2d(num_features=10)\n",
    "      self.do_8 = nn.Dropout(0.12)\n",
    "\n",
    "      self.conv9 = nn.Conv2d(10, 10, 3)\n",
    "#       self.bn_9 = nn.BatchNorm2d(num_features=10)\n",
    "#       self.do_9 = nn.Dropout(0.10)\n",
    "\n",
    "\n",
    "#       self.conv10 = nn.Conv2d(10, 10, 3)\n",
    "#       self.bn_10 = nn.BatchNorm2d(num_features=10)\n",
    "\n",
    "      self.conv_1x1_2 = nn.Conv2d(10, 10, 1)\n",
    "\n",
    "\n",
    "  def forward(self, x):\n",
    "      x = self.conv1(x)\n",
    "      x = F.relu(x)\n",
    "      x = self.bn_1(x)\n",
    "      x = self.do_1(x)\n",
    "\n",
    "      x = self.conv2(x)\n",
    "      x = F.relu(x)\n",
    "      x = self.bn_2(x)\n",
    "      x = self.do_2(x)\n",
    "\n",
    "\n",
    "      x = self.conv3(x)\n",
    "      x = F.relu(x)\n",
    "      x = self.bn_3(x)\n",
    "\n",
    "      x = self.pool1(x)\n",
    "      \n",
    "      x = self.conv4(x)\n",
    "      x = F.relu(x)\n",
    "      x = self.bn_4(x)\n",
    "      x = self.do_4(x)\n",
    "\n",
    "      # x = self.pool1(x)\n",
    "      # x = self.do_2(x)\n",
    "\n",
    "      x = self.conv5(x)\n",
    "      x = F.relu(x)\n",
    "      x = self.bn_5(x)\n",
    "      x = self.do_5(x)\n",
    "\n",
    "      x = self.conv6(x)\n",
    "      x = F.relu(x)\n",
    "      x = self.bn_6(x)\n",
    "      x = self.do_6(x)\n",
    "\n",
    "      x = self.conv7(x)\n",
    "      x = F.relu(x)\n",
    "      x = self.bn_7(x)\n",
    "      x = self.do_7(x)\n",
    "      \n",
    "      x = self.conv8(x)\n",
    "      x = F.relu(x)\n",
    "      x = self.bn_8(x)\n",
    "      x = self.do_8(x)\n",
    "\n",
    "      x = self.conv9(x)\n",
    "      # x = F.relu(x)\n",
    "      # x = self.bn_9(x)\n",
    "      # x = self.do_9(x)\n",
    "\n",
    "      # x = self.conv10(x)\n",
    "      # x = F.relu(x)\n",
    "      # x = self.bn_10(x)\n",
    "\n",
    "      x = self.conv_1x1_2(x)\n",
    "      \n",
    "      x = x.view(-1, 10)\n",
    "\n",
    "      return F.log_softmax(x, dim=1)\n",
    "      "
   ]
  },
  {
   "cell_type": "code",
   "execution_count": 3,
   "metadata": {
    "colab": {
     "base_uri": "https://localhost:8080/",
     "height": 34
    },
    "colab_type": "code",
    "id": "Eu7PXD_bs076",
    "outputId": "76d4c13d-9545-47f8-875a-54b79cc7e008"
   },
   "outputs": [
    {
     "data": {
      "text/plain": [
       "True"
      ]
     },
     "execution_count": 3,
     "metadata": {
      "tags": []
     },
     "output_type": "execute_result"
    }
   ],
   "source": [
    "use_cuda = torch.cuda.is_available()\n",
    "\n",
    "device = torch.device(\"cuda\" if use_cuda else \"cpu\")\n",
    "\n",
    "use_cuda"
   ]
  },
  {
   "cell_type": "code",
   "execution_count": 4,
   "metadata": {
    "colab": {},
    "colab_type": "code",
    "id": "bg79B7RLvUc7"
   },
   "outputs": [],
   "source": [
    "model2 = Net2().to(device)"
   ]
  },
  {
   "cell_type": "code",
   "execution_count": 5,
   "metadata": {
    "colab": {
     "base_uri": "https://localhost:8080/",
     "height": 680
    },
    "colab_type": "code",
    "id": "IYj_f5T1vXjg",
    "outputId": "5bd1b1fa-a10a-47b5-8103-d4d6a94bb57a"
   },
   "outputs": [
    {
     "name": "stdout",
     "output_type": "stream",
     "text": [
      "----------------------------------------------------------------\n",
      "        Layer (type)               Output Shape         Param #\n",
      "================================================================\n",
      "            Conv2d-1           [-1, 12, 28, 28]             120\n",
      "       BatchNorm2d-2           [-1, 12, 28, 28]              24\n",
      "           Dropout-3           [-1, 12, 28, 28]               0\n",
      "            Conv2d-4           [-1, 16, 26, 26]           1,744\n",
      "       BatchNorm2d-5           [-1, 16, 26, 26]              32\n",
      "           Dropout-6           [-1, 16, 26, 26]               0\n",
      "            Conv2d-7           [-1, 10, 26, 26]             170\n",
      "       BatchNorm2d-8           [-1, 10, 26, 26]              20\n",
      "         MaxPool2d-9           [-1, 10, 13, 13]               0\n",
      "           Conv2d-10           [-1, 20, 11, 11]           1,820\n",
      "      BatchNorm2d-11           [-1, 20, 11, 11]              40\n",
      "          Dropout-12           [-1, 20, 11, 11]               0\n",
      "           Conv2d-13             [-1, 16, 9, 9]           2,896\n",
      "      BatchNorm2d-14             [-1, 16, 9, 9]              32\n",
      "          Dropout-15             [-1, 16, 9, 9]               0\n",
      "           Conv2d-16             [-1, 16, 7, 7]           2,320\n",
      "      BatchNorm2d-17             [-1, 16, 7, 7]              32\n",
      "          Dropout-18             [-1, 16, 7, 7]               0\n",
      "           Conv2d-19             [-1, 10, 5, 5]           1,450\n",
      "      BatchNorm2d-20             [-1, 10, 5, 5]              20\n",
      "          Dropout-21             [-1, 10, 5, 5]               0\n",
      "           Conv2d-22             [-1, 10, 3, 3]             910\n",
      "      BatchNorm2d-23             [-1, 10, 3, 3]              20\n",
      "          Dropout-24             [-1, 10, 3, 3]               0\n",
      "           Conv2d-25             [-1, 10, 1, 1]             910\n",
      "           Conv2d-26             [-1, 10, 1, 1]             110\n",
      "================================================================\n",
      "Total params: 12,670\n",
      "Trainable params: 12,670\n",
      "Non-trainable params: 0\n",
      "----------------------------------------------------------------\n",
      "Input size (MB): 0.00\n",
      "Forward/backward pass size (MB): 0.69\n",
      "Params size (MB): 0.05\n",
      "Estimated Total Size (MB): 0.74\n",
      "----------------------------------------------------------------\n"
     ]
    }
   ],
   "source": [
    "summary(model2, input_size=(1, 28, 28))"
   ]
  },
  {
   "cell_type": "code",
   "execution_count": 6,
   "metadata": {
    "colab": {},
    "colab_type": "code",
    "id": "kk8meDU4uE0L"
   },
   "outputs": [],
   "source": [
    "torch.manual_seed(100)\n",
    "batch_size = 32"
   ]
  },
  {
   "cell_type": "code",
   "execution_count": 7,
   "metadata": {
    "colab": {},
    "colab_type": "code",
    "id": "y4Hy1psAvm1d"
   },
   "outputs": [],
   "source": [
    "kwargs = {'num_workers': 1, 'pin_memory': True} if use_cuda else {}"
   ]
  },
  {
   "cell_type": "code",
   "execution_count": 8,
   "metadata": {
    "colab": {
     "base_uri": "https://localhost:8080/",
     "height": 386,
     "referenced_widgets": [
      "02e9c2dfc1b8482b8c80a67fcec60bb7",
      "fe906f90a5d245459c27cebf13476dbe",
      "b5f6b3f0376b4321a0b65cdfb9d06a04",
      "6aec8669d0cf4623a987d419c4ab85c8",
      "4227c770603744a9a85f6c8e1d590324",
      "1e7a4bf35fec4cd08c15dd33e1e394af",
      "cf12c2a9a51541b39c191d5fd83935bc",
      "6d957dae11604af5aef24c5894749c85",
      "6ab780b5c3444b169e7cd493c006dc32",
      "d399ade3e34048d39f5ffbfc89757138",
      "ad669e757de44266b8a8b9719e0fed92",
      "a56d703514714eefb31cbdab8c7cd83b",
      "8c4ffedf2f5e4b36b6b7f31444499b54",
      "5c7f4b56b9fc414f86d9b3e2cf7e2194",
      "bd27a39b614e436cb2c66ecdbb3249c1",
      "75417c3302b84526999e3f9e1c8e0721",
      "9406b0405a1644b58ffbf70f0cde01d1",
      "045703d225f7458cb6a7dded13443a45",
      "7dbc496ad75e4d15b23b24ef6afc009f",
      "c5dcd5f732b54cce8652cd7f59f0a738",
      "2b5ab266b4cc439e90438422660f4dc6",
      "b5c4b09b958348b6830c8ea79a2f725c",
      "3ca4cf4e49444b639f869a1220a96411",
      "5c1784fc0b4f4656b1d51a928621c7ec",
      "e184901159484102979ec73003418f9d",
      "abdbaaed3e9848fcbb0fe826dae45cda",
      "238779f0c66644b99ffeb01136204f38",
      "c415db6ad1744c2b93d20e4b29088840",
      "34bf275ba9c14d58abf35d3b69ae6f72",
      "05d7bc00b9354a699f13917fa7d79811",
      "89812af06a7c45ebb4d05f46fa528409",
      "821aec1ee7604a15a05e772fe0cfff5f"
     ]
    },
    "colab_type": "code",
    "id": "lq3Xdq-bv6LM",
    "outputId": "3626158a-63eb-423e-fabe-b3c23ff3bfe8"
   },
   "outputs": [
    {
     "name": "stdout",
     "output_type": "stream",
     "text": [
      "Downloading http://yann.lecun.com/exdb/mnist/train-images-idx3-ubyte.gz to ../data/MNIST/raw/train-images-idx3-ubyte.gz\n"
     ]
    },
    {
     "data": {
      "application/vnd.jupyter.widget-view+json": {
       "model_id": "02e9c2dfc1b8482b8c80a67fcec60bb7",
       "version_major": 2,
       "version_minor": 0
      },
      "text/plain": [
       "HBox(children=(FloatProgress(value=1.0, bar_style='info', max=1.0), HTML(value='')))"
      ]
     },
     "metadata": {
      "tags": []
     },
     "output_type": "display_data"
    },
    {
     "name": "stdout",
     "output_type": "stream",
     "text": [
      "Extracting ../data/MNIST/raw/train-images-idx3-ubyte.gz to ../data/MNIST/raw\n",
      "Downloading http://yann.lecun.com/exdb/mnist/train-labels-idx1-ubyte.gz to ../data/MNIST/raw/train-labels-idx1-ubyte.gz\n"
     ]
    },
    {
     "data": {
      "application/vnd.jupyter.widget-view+json": {
       "model_id": "6ab780b5c3444b169e7cd493c006dc32",
       "version_major": 2,
       "version_minor": 0
      },
      "text/plain": [
       "HBox(children=(FloatProgress(value=1.0, bar_style='info', max=1.0), HTML(value='')))"
      ]
     },
     "metadata": {
      "tags": []
     },
     "output_type": "display_data"
    },
    {
     "name": "stdout",
     "output_type": "stream",
     "text": [
      "Extracting ../data/MNIST/raw/train-labels-idx1-ubyte.gz to ../data/MNIST/raw\n",
      "Downloading http://yann.lecun.com/exdb/mnist/t10k-images-idx3-ubyte.gz to ../data/MNIST/raw/t10k-images-idx3-ubyte.gz\n",
      "\n"
     ]
    },
    {
     "data": {
      "application/vnd.jupyter.widget-view+json": {
       "model_id": "9406b0405a1644b58ffbf70f0cde01d1",
       "version_major": 2,
       "version_minor": 0
      },
      "text/plain": [
       "HBox(children=(FloatProgress(value=1.0, bar_style='info', max=1.0), HTML(value='')))"
      ]
     },
     "metadata": {
      "tags": []
     },
     "output_type": "display_data"
    },
    {
     "name": "stdout",
     "output_type": "stream",
     "text": [
      "Extracting ../data/MNIST/raw/t10k-images-idx3-ubyte.gz to ../data/MNIST/raw\n",
      "Downloading http://yann.lecun.com/exdb/mnist/t10k-labels-idx1-ubyte.gz to ../data/MNIST/raw/t10k-labels-idx1-ubyte.gz\n"
     ]
    },
    {
     "data": {
      "application/vnd.jupyter.widget-view+json": {
       "model_id": "e184901159484102979ec73003418f9d",
       "version_major": 2,
       "version_minor": 0
      },
      "text/plain": [
       "HBox(children=(FloatProgress(value=1.0, bar_style='info', max=1.0), HTML(value='')))"
      ]
     },
     "metadata": {
      "tags": []
     },
     "output_type": "display_data"
    },
    {
     "name": "stdout",
     "output_type": "stream",
     "text": [
      "Extracting ../data/MNIST/raw/t10k-labels-idx1-ubyte.gz to ../data/MNIST/raw\n",
      "Processing...\n",
      "Done!\n"
     ]
    },
    {
     "name": "stderr",
     "output_type": "stream",
     "text": [
      "/usr/local/lib/python3.6/dist-packages/torchvision/datasets/mnist.py:469: UserWarning: The given NumPy array is not writeable, and PyTorch does not support non-writeable tensors. This means you can write to the underlying (supposedly non-writeable) NumPy array using the tensor. You may want to copy the array to protect its data or make it writeable before converting it to a tensor. This type of warning will be suppressed for the rest of this program. (Triggered internally at  /pytorch/torch/csrc/utils/tensor_numpy.cpp:141.)\n",
      "  return torch.from_numpy(parsed.astype(m[2], copy=False)).view(*s)\n"
     ]
    }
   ],
   "source": [
    "train_loader = torch.utils.data.DataLoader(\n",
    "    datasets.MNIST('../data', train=True, download=True,\n",
    "                    transform=transforms.Compose([\n",
    "                        transforms.ToTensor(),\n",
    "                        transforms.Normalize((0.1307,), (0.3081,))\n",
    "                    ])),\n",
    "    batch_size=batch_size, shuffle=True, **kwargs)"
   ]
  },
  {
   "cell_type": "code",
   "execution_count": 9,
   "metadata": {
    "colab": {},
    "colab_type": "code",
    "id": "4U1rBGP6x819"
   },
   "outputs": [],
   "source": [
    "test_loader = torch.utils.data.DataLoader(\n",
    "    datasets.MNIST('../data', train=False, transform=transforms.Compose([\n",
    "                        transforms.ToTensor(),\n",
    "                        transforms.Normalize((0.1307,), (0.3081,))\n",
    "                    ])),\n",
    "    batch_size=batch_size, shuffle=True, **kwargs)"
   ]
  },
  {
   "cell_type": "code",
   "execution_count": 10,
   "metadata": {
    "colab": {},
    "colab_type": "code",
    "id": "jo2eW2GRqqDs"
   },
   "outputs": [],
   "source": [
    "# torch.backends.cudnn.benchmark = True # found online, https://discuss.pytorch.org/t/what-does-torch-backends-cudnn-benchmark-do/5936 "
   ]
  },
  {
   "cell_type": "code",
   "execution_count": 11,
   "metadata": {
    "colab": {
     "base_uri": "https://localhost:8080/",
     "height": 34
    },
    "colab_type": "code",
    "id": "YBio0HDNVttH",
    "outputId": "90b4710b-3f55-4553-b810-8195fbcd5810"
   },
   "outputs": [
    {
     "name": "stdout",
     "output_type": "stream",
     "text": [
      "\n"
     ]
    }
   ],
   "source": [
    "def train(model, device, train_loader, optimizer, epochs, scheduler=None, test=False):\n",
    "    model.train()\n",
    "    for epoch in range(epochs):\n",
    "      correct = 0\n",
    "      train_loss = 0\n",
    "      print(f\"\\n\\nepoch: {epoch+1}\")\n",
    "      pbar = tqdm(train_loader)\n",
    "      for batch_idx, (data, target) in enumerate(pbar):\n",
    "          data, target = data.to(device), target.to(device)\n",
    "          optimizer.zero_grad()\n",
    "          output = model(data)\n",
    "          loss = F.nll_loss(output, target)\n",
    "          train_loss += loss.item()\n",
    "          loss.backward()\n",
    "          optimizer.step()\n",
    "          pred = output.argmax(dim=1, keepdim=True)  # get the index of the max log-probability\n",
    "          correct += pred.eq(target.view_as(pred)).sum().item()\n",
    "          # correct += (output == target).float().sum()\n",
    "          pbar.set_description(desc= f'loss={loss.item()} batch_id={batch_idx}')\n",
    "      \n",
    "      if scheduler:\n",
    "          print(f'lr: {scheduler.get_last_lr()[0]}')\n",
    "          scheduler.step()\n",
    "      train_loss /= len(train_loader.dataset)\n",
    "      print('\\nTrain set:                              Accuracy: {}/{} ({:.6f}%)'.format(correct, len(train_loader.dataset), 100.0 * correct / len(train_loader.dataset)))\n",
    "\n",
    "      if test:\n",
    "          model.eval()\n",
    "          test_loss = 0\n",
    "          correct = 0\n",
    "          with torch.no_grad():\n",
    "              for data, target in test_loader:\n",
    "                  data, target = data.to(device), target.to(device)\n",
    "                  output = model(data)\n",
    "                  test_loss += F.nll_loss(output, target, reduction='sum').item()  # sum up batch loss\n",
    "                  pred = output.argmax(dim=1, keepdim=True)  # get the index of the max log-probability\n",
    "                  correct += pred.eq(target.view_as(pred)).sum().item()\n",
    "\n",
    "          test_loss /= len(test_loader.dataset)\n",
    "\n",
    "          print('\\nTest set: Average loss: {:.4f}, Accuracy: {}/{} ({:.6f}%)\\n'.format(\n",
    "              test_loss, correct, len(test_loader.dataset),\n",
    "              100. * correct / len(test_loader.dataset)))\n",
    "\n",
    "\n",
    "# def test(model, device, test_loader):\n",
    "#     model.eval()\n",
    "#     test_loss = 0\n",
    "#     correct = 0\n",
    "#     with torch.no_grad():\n",
    "#         for data, target in test_loader:\n",
    "#             data, target = data.to(device), target.to(device)\n",
    "#             output = model(data)\n",
    "#             test_loss += F.nll_loss(output, target, reduction='sum').item()  # sum up batch loss\n",
    "#             pred = output.argmax(dim=1, keepdim=True)  # get the index of the max log-probability\n",
    "#             correct += pred.eq(target.view_as(pred)).sum().item()\n",
    "\n",
    "#     test_loss /= len(test_loader.dataset)\n",
    "\n",
    "#     print('\\nTest set: Average loss: {:.4f}, Accuracy: {}/{} ({:.6f}%)\\n'.format(\n",
    "#         test_loss, correct, len(test_loader.dataset),\n",
    "#         100. * correct / len(test_loader.dataset)))"
   ]
  },
  {
   "cell_type": "code",
   "execution_count": 12,
   "metadata": {
    "colab": {},
    "colab_type": "code",
    "id": "i6DUt3W45RMW"
   },
   "outputs": [],
   "source": [
    "model2 = Net2().to(device)"
   ]
  },
  {
   "cell_type": "code",
   "execution_count": 13,
   "metadata": {
    "colab": {
     "base_uri": "https://localhost:8080/",
     "height": 1000
    },
    "colab_type": "code",
    "id": "xQ6n0DQY6wZ5",
    "outputId": "87319660-352b-4f0d-e972-3cee56e26a6d"
   },
   "outputs": [
    {
     "name": "stderr",
     "output_type": "stream",
     "text": [
      "\r",
      "  0%|          | 0/1875 [00:00<?, ?it/s]"
     ]
    },
    {
     "name": "stdout",
     "output_type": "stream",
     "text": [
      "\n",
      "\n",
      "\n",
      "\n",
      "epoch: 1\n"
     ]
    },
    {
     "name": "stderr",
     "output_type": "stream",
     "text": [
      "loss=0.023644063621759415 batch_id=1874: 100%|██████████| 1875/1875 [00:28<00:00, 65.52it/s]"
     ]
    },
    {
     "name": "stdout",
     "output_type": "stream",
     "text": [
      "lr: 0.01\n",
      "\n",
      "Train set:                              Accuracy: 55881/60000 (93.135000%)\n"
     ]
    },
    {
     "name": "stderr",
     "output_type": "stream",
     "text": [
      "\n",
      "  0%|          | 0/1875 [00:00<?, ?it/s]"
     ]
    },
    {
     "name": "stdout",
     "output_type": "stream",
     "text": [
      "\n",
      "Test set: Average loss: 0.0613, Accuracy: 9802/10000 (98.020000%)\n",
      "\n",
      "\n",
      "\n",
      "epoch: 2\n"
     ]
    },
    {
     "name": "stderr",
     "output_type": "stream",
     "text": [
      "loss=0.11791995167732239 batch_id=1874: 100%|██████████| 1875/1875 [00:27<00:00, 67.47it/s]"
     ]
    },
    {
     "name": "stdout",
     "output_type": "stream",
     "text": [
      "lr: 0.01\n",
      "\n",
      "Train set:                              Accuracy: 58966/60000 (98.276667%)\n"
     ]
    },
    {
     "name": "stderr",
     "output_type": "stream",
     "text": [
      "\n",
      "  0%|          | 0/1875 [00:00<?, ?it/s]"
     ]
    },
    {
     "name": "stdout",
     "output_type": "stream",
     "text": [
      "\n",
      "Test set: Average loss: 0.0423, Accuracy: 9860/10000 (98.600000%)\n",
      "\n",
      "\n",
      "\n",
      "epoch: 3\n"
     ]
    },
    {
     "name": "stderr",
     "output_type": "stream",
     "text": [
      "loss=0.03419635072350502 batch_id=1874: 100%|██████████| 1875/1875 [00:27<00:00, 67.34it/s]"
     ]
    },
    {
     "name": "stdout",
     "output_type": "stream",
     "text": [
      "lr: 0.01\n",
      "\n",
      "Train set:                              Accuracy: 59192/60000 (98.653333%)\n"
     ]
    },
    {
     "name": "stderr",
     "output_type": "stream",
     "text": [
      "\n",
      "  0%|          | 0/1875 [00:00<?, ?it/s]"
     ]
    },
    {
     "name": "stdout",
     "output_type": "stream",
     "text": [
      "\n",
      "Test set: Average loss: 0.0316, Accuracy: 9897/10000 (98.970000%)\n",
      "\n",
      "\n",
      "\n",
      "epoch: 4\n"
     ]
    },
    {
     "name": "stderr",
     "output_type": "stream",
     "text": [
      "loss=0.05455230176448822 batch_id=1874: 100%|██████████| 1875/1875 [00:28<00:00, 66.58it/s]\n"
     ]
    },
    {
     "name": "stdout",
     "output_type": "stream",
     "text": [
      "lr: 0.01\n",
      "\n",
      "Train set:                              Accuracy: 59327/60000 (98.878333%)\n"
     ]
    },
    {
     "name": "stderr",
     "output_type": "stream",
     "text": [
      "\r",
      "  0%|          | 0/1875 [00:00<?, ?it/s]"
     ]
    },
    {
     "name": "stdout",
     "output_type": "stream",
     "text": [
      "\n",
      "Test set: Average loss: 0.0373, Accuracy: 9887/10000 (98.870000%)\n",
      "\n",
      "\n",
      "\n",
      "epoch: 5\n"
     ]
    },
    {
     "name": "stderr",
     "output_type": "stream",
     "text": [
      "loss=0.002758053131401539 batch_id=1874: 100%|██████████| 1875/1875 [00:28<00:00, 66.27it/s]"
     ]
    },
    {
     "name": "stdout",
     "output_type": "stream",
     "text": [
      "lr: 0.01\n",
      "\n",
      "Train set:                              Accuracy: 59379/60000 (98.965000%)\n"
     ]
    },
    {
     "name": "stderr",
     "output_type": "stream",
     "text": [
      "\n",
      "  0%|          | 0/1875 [00:00<?, ?it/s]"
     ]
    },
    {
     "name": "stdout",
     "output_type": "stream",
     "text": [
      "\n",
      "Test set: Average loss: 0.0312, Accuracy: 9890/10000 (98.900000%)\n",
      "\n",
      "\n",
      "\n",
      "epoch: 6\n"
     ]
    },
    {
     "name": "stderr",
     "output_type": "stream",
     "text": [
      "loss=0.0011278390884399414 batch_id=1874: 100%|██████████| 1875/1875 [00:27<00:00, 67.83it/s]"
     ]
    },
    {
     "name": "stdout",
     "output_type": "stream",
     "text": [
      "lr: 0.0013000000000000002\n",
      "\n",
      "Train set:                              Accuracy: 59711/60000 (99.518333%)\n"
     ]
    },
    {
     "name": "stderr",
     "output_type": "stream",
     "text": [
      "\n",
      "  0%|          | 0/1875 [00:00<?, ?it/s]"
     ]
    },
    {
     "name": "stdout",
     "output_type": "stream",
     "text": [
      "\n",
      "Test set: Average loss: 0.0202, Accuracy: 9940/10000 (99.400000%)\n",
      "\n",
      "\n",
      "\n",
      "epoch: 7\n"
     ]
    },
    {
     "name": "stderr",
     "output_type": "stream",
     "text": [
      "loss=0.00017490539175923914 batch_id=1874: 100%|██████████| 1875/1875 [00:27<00:00, 68.08it/s]"
     ]
    },
    {
     "name": "stdout",
     "output_type": "stream",
     "text": [
      "lr: 0.0013000000000000002\n",
      "\n",
      "Train set:                              Accuracy: 59777/60000 (99.628333%)\n"
     ]
    },
    {
     "name": "stderr",
     "output_type": "stream",
     "text": [
      "\n",
      "  0%|          | 0/1875 [00:00<?, ?it/s]"
     ]
    },
    {
     "name": "stdout",
     "output_type": "stream",
     "text": [
      "\n",
      "Test set: Average loss: 0.0205, Accuracy: 9939/10000 (99.390000%)\n",
      "\n",
      "\n",
      "\n",
      "epoch: 8\n"
     ]
    },
    {
     "name": "stderr",
     "output_type": "stream",
     "text": [
      "loss=0.00019978986529167742 batch_id=1874: 100%|██████████| 1875/1875 [00:29<00:00, 63.09it/s]"
     ]
    },
    {
     "name": "stdout",
     "output_type": "stream",
     "text": [
      "lr: 0.0013000000000000002\n",
      "\n",
      "Train set:                              Accuracy: 59805/60000 (99.675000%)\n"
     ]
    },
    {
     "name": "stderr",
     "output_type": "stream",
     "text": [
      "\n",
      "  0%|          | 0/1875 [00:00<?, ?it/s]"
     ]
    },
    {
     "name": "stdout",
     "output_type": "stream",
     "text": [
      "\n",
      "Test set: Average loss: 0.0209, Accuracy: 9934/10000 (99.340000%)\n",
      "\n",
      "\n",
      "\n",
      "epoch: 9\n"
     ]
    },
    {
     "name": "stderr",
     "output_type": "stream",
     "text": [
      "loss=0.0009087774669751525 batch_id=1874: 100%|██████████| 1875/1875 [00:29<00:00, 64.51it/s]"
     ]
    },
    {
     "name": "stdout",
     "output_type": "stream",
     "text": [
      "lr: 0.0013000000000000002\n",
      "\n",
      "Train set:                              Accuracy: 59826/60000 (99.710000%)\n"
     ]
    },
    {
     "name": "stderr",
     "output_type": "stream",
     "text": [
      "\n",
      "  0%|          | 0/1875 [00:00<?, ?it/s]"
     ]
    },
    {
     "name": "stdout",
     "output_type": "stream",
     "text": [
      "\n",
      "Test set: Average loss: 0.0207, Accuracy: 9939/10000 (99.390000%)\n",
      "\n",
      "\n",
      "\n",
      "epoch: 10\n"
     ]
    },
    {
     "name": "stderr",
     "output_type": "stream",
     "text": [
      "loss=0.0005642673349939287 batch_id=1874: 100%|██████████| 1875/1875 [00:28<00:00, 66.07it/s]"
     ]
    },
    {
     "name": "stdout",
     "output_type": "stream",
     "text": [
      "lr: 0.0013000000000000002\n",
      "\n",
      "Train set:                              Accuracy: 59837/60000 (99.728333%)\n"
     ]
    },
    {
     "name": "stderr",
     "output_type": "stream",
     "text": [
      "\n"
     ]
    },
    {
     "name": "stdout",
     "output_type": "stream",
     "text": [
      "\n",
      "Test set: Average loss: 0.0204, Accuracy: 9941/10000 (99.410000%)\n",
      "\n"
     ]
    }
   ],
   "source": [
    "optimizer = optim.SGD(params=model2.parameters(),lr = 0.01, momentum=0.9)\n",
    "\n",
    "# optimizer = optim.Adam(params=model1.parameters())\n",
    "\n",
    "scheduler = optim.lr_scheduler.StepLR(optimizer, step_size=5, gamma=0.13)\n",
    "\n",
    "epochs = 10\n",
    "print(\"\\n\")\n",
    "\n",
    "train(model2, device, train_loader, optimizer, epochs, scheduler, test=True)\n",
    "\n",
    "# test(model1, device, test_loader) # test after training"
   ]
  },
  {
   "cell_type": "code",
   "execution_count": 13,
   "metadata": {
    "colab": {},
    "colab_type": "code",
    "id": "O7GKNpJmHhD9"
   },
   "outputs": [],
   "source": []
  }
 ],
 "metadata": {
  "accelerator": "GPU",
  "colab": {
   "collapsed_sections": [],
   "name": "10_epochs_99.41%_12,670 params_EVA5_S4.ipynb",
   "provenance": []
  },
  "kernelspec": {
   "display_name": "Python 3",
   "language": "python",
   "name": "python3"
  },
  "language_info": {
   "codemirror_mode": {
    "name": "ipython",
    "version": 3
   },
   "file_extension": ".py",
   "mimetype": "text/x-python",
   "name": "python",
   "nbconvert_exporter": "python",
   "pygments_lexer": "ipython3",
   "version": "3.7.7"
  },
  "widgets": {
   "application/vnd.jupyter.widget-state+json": {
    "02e9c2dfc1b8482b8c80a67fcec60bb7": {
     "model_module": "@jupyter-widgets/controls",
     "model_name": "HBoxModel",
     "state": {
      "_dom_classes": [],
      "_model_module": "@jupyter-widgets/controls",
      "_model_module_version": "1.5.0",
      "_model_name": "HBoxModel",
      "_view_count": null,
      "_view_module": "@jupyter-widgets/controls",
      "_view_module_version": "1.5.0",
      "_view_name": "HBoxView",
      "box_style": "",
      "children": [
       "IPY_MODEL_b5f6b3f0376b4321a0b65cdfb9d06a04",
       "IPY_MODEL_6aec8669d0cf4623a987d419c4ab85c8"
      ],
      "layout": "IPY_MODEL_fe906f90a5d245459c27cebf13476dbe"
     }
    },
    "045703d225f7458cb6a7dded13443a45": {
     "model_module": "@jupyter-widgets/base",
     "model_name": "LayoutModel",
     "state": {
      "_model_module": "@jupyter-widgets/base",
      "_model_module_version": "1.2.0",
      "_model_name": "LayoutModel",
      "_view_count": null,
      "_view_module": "@jupyter-widgets/base",
      "_view_module_version": "1.2.0",
      "_view_name": "LayoutView",
      "align_content": null,
      "align_items": null,
      "align_self": null,
      "border": null,
      "bottom": null,
      "display": null,
      "flex": null,
      "flex_flow": null,
      "grid_area": null,
      "grid_auto_columns": null,
      "grid_auto_flow": null,
      "grid_auto_rows": null,
      "grid_column": null,
      "grid_gap": null,
      "grid_row": null,
      "grid_template_areas": null,
      "grid_template_columns": null,
      "grid_template_rows": null,
      "height": null,
      "justify_content": null,
      "justify_items": null,
      "left": null,
      "margin": null,
      "max_height": null,
      "max_width": null,
      "min_height": null,
      "min_width": null,
      "object_fit": null,
      "object_position": null,
      "order": null,
      "overflow": null,
      "overflow_x": null,
      "overflow_y": null,
      "padding": null,
      "right": null,
      "top": null,
      "visibility": null,
      "width": null
     }
    },
    "05d7bc00b9354a699f13917fa7d79811": {
     "model_module": "@jupyter-widgets/base",
     "model_name": "LayoutModel",
     "state": {
      "_model_module": "@jupyter-widgets/base",
      "_model_module_version": "1.2.0",
      "_model_name": "LayoutModel",
      "_view_count": null,
      "_view_module": "@jupyter-widgets/base",
      "_view_module_version": "1.2.0",
      "_view_name": "LayoutView",
      "align_content": null,
      "align_items": null,
      "align_self": null,
      "border": null,
      "bottom": null,
      "display": null,
      "flex": null,
      "flex_flow": null,
      "grid_area": null,
      "grid_auto_columns": null,
      "grid_auto_flow": null,
      "grid_auto_rows": null,
      "grid_column": null,
      "grid_gap": null,
      "grid_row": null,
      "grid_template_areas": null,
      "grid_template_columns": null,
      "grid_template_rows": null,
      "height": null,
      "justify_content": null,
      "justify_items": null,
      "left": null,
      "margin": null,
      "max_height": null,
      "max_width": null,
      "min_height": null,
      "min_width": null,
      "object_fit": null,
      "object_position": null,
      "order": null,
      "overflow": null,
      "overflow_x": null,
      "overflow_y": null,
      "padding": null,
      "right": null,
      "top": null,
      "visibility": null,
      "width": null
     }
    },
    "1e7a4bf35fec4cd08c15dd33e1e394af": {
     "model_module": "@jupyter-widgets/base",
     "model_name": "LayoutModel",
     "state": {
      "_model_module": "@jupyter-widgets/base",
      "_model_module_version": "1.2.0",
      "_model_name": "LayoutModel",
      "_view_count": null,
      "_view_module": "@jupyter-widgets/base",
      "_view_module_version": "1.2.0",
      "_view_name": "LayoutView",
      "align_content": null,
      "align_items": null,
      "align_self": null,
      "border": null,
      "bottom": null,
      "display": null,
      "flex": null,
      "flex_flow": null,
      "grid_area": null,
      "grid_auto_columns": null,
      "grid_auto_flow": null,
      "grid_auto_rows": null,
      "grid_column": null,
      "grid_gap": null,
      "grid_row": null,
      "grid_template_areas": null,
      "grid_template_columns": null,
      "grid_template_rows": null,
      "height": null,
      "justify_content": null,
      "justify_items": null,
      "left": null,
      "margin": null,
      "max_height": null,
      "max_width": null,
      "min_height": null,
      "min_width": null,
      "object_fit": null,
      "object_position": null,
      "order": null,
      "overflow": null,
      "overflow_x": null,
      "overflow_y": null,
      "padding": null,
      "right": null,
      "top": null,
      "visibility": null,
      "width": null
     }
    },
    "238779f0c66644b99ffeb01136204f38": {
     "model_module": "@jupyter-widgets/controls",
     "model_name": "FloatProgressModel",
     "state": {
      "_dom_classes": [],
      "_model_module": "@jupyter-widgets/controls",
      "_model_module_version": "1.5.0",
      "_model_name": "FloatProgressModel",
      "_view_count": null,
      "_view_module": "@jupyter-widgets/controls",
      "_view_module_version": "1.5.0",
      "_view_name": "ProgressView",
      "bar_style": "success",
      "description": "",
      "description_tooltip": null,
      "layout": "IPY_MODEL_05d7bc00b9354a699f13917fa7d79811",
      "max": 1,
      "min": 0,
      "orientation": "horizontal",
      "style": "IPY_MODEL_34bf275ba9c14d58abf35d3b69ae6f72",
      "value": 1
     }
    },
    "2b5ab266b4cc439e90438422660f4dc6": {
     "model_module": "@jupyter-widgets/controls",
     "model_name": "ProgressStyleModel",
     "state": {
      "_model_module": "@jupyter-widgets/controls",
      "_model_module_version": "1.5.0",
      "_model_name": "ProgressStyleModel",
      "_view_count": null,
      "_view_module": "@jupyter-widgets/base",
      "_view_module_version": "1.2.0",
      "_view_name": "StyleView",
      "bar_color": null,
      "description_width": "initial"
     }
    },
    "34bf275ba9c14d58abf35d3b69ae6f72": {
     "model_module": "@jupyter-widgets/controls",
     "model_name": "ProgressStyleModel",
     "state": {
      "_model_module": "@jupyter-widgets/controls",
      "_model_module_version": "1.5.0",
      "_model_name": "ProgressStyleModel",
      "_view_count": null,
      "_view_module": "@jupyter-widgets/base",
      "_view_module_version": "1.2.0",
      "_view_name": "StyleView",
      "bar_color": null,
      "description_width": "initial"
     }
    },
    "3ca4cf4e49444b639f869a1220a96411": {
     "model_module": "@jupyter-widgets/controls",
     "model_name": "DescriptionStyleModel",
     "state": {
      "_model_module": "@jupyter-widgets/controls",
      "_model_module_version": "1.5.0",
      "_model_name": "DescriptionStyleModel",
      "_view_count": null,
      "_view_module": "@jupyter-widgets/base",
      "_view_module_version": "1.2.0",
      "_view_name": "StyleView",
      "description_width": ""
     }
    },
    "4227c770603744a9a85f6c8e1d590324": {
     "model_module": "@jupyter-widgets/controls",
     "model_name": "ProgressStyleModel",
     "state": {
      "_model_module": "@jupyter-widgets/controls",
      "_model_module_version": "1.5.0",
      "_model_name": "ProgressStyleModel",
      "_view_count": null,
      "_view_module": "@jupyter-widgets/base",
      "_view_module_version": "1.2.0",
      "_view_name": "StyleView",
      "bar_color": null,
      "description_width": "initial"
     }
    },
    "5c1784fc0b4f4656b1d51a928621c7ec": {
     "model_module": "@jupyter-widgets/base",
     "model_name": "LayoutModel",
     "state": {
      "_model_module": "@jupyter-widgets/base",
      "_model_module_version": "1.2.0",
      "_model_name": "LayoutModel",
      "_view_count": null,
      "_view_module": "@jupyter-widgets/base",
      "_view_module_version": "1.2.0",
      "_view_name": "LayoutView",
      "align_content": null,
      "align_items": null,
      "align_self": null,
      "border": null,
      "bottom": null,
      "display": null,
      "flex": null,
      "flex_flow": null,
      "grid_area": null,
      "grid_auto_columns": null,
      "grid_auto_flow": null,
      "grid_auto_rows": null,
      "grid_column": null,
      "grid_gap": null,
      "grid_row": null,
      "grid_template_areas": null,
      "grid_template_columns": null,
      "grid_template_rows": null,
      "height": null,
      "justify_content": null,
      "justify_items": null,
      "left": null,
      "margin": null,
      "max_height": null,
      "max_width": null,
      "min_height": null,
      "min_width": null,
      "object_fit": null,
      "object_position": null,
      "order": null,
      "overflow": null,
      "overflow_x": null,
      "overflow_y": null,
      "padding": null,
      "right": null,
      "top": null,
      "visibility": null,
      "width": null
     }
    },
    "5c7f4b56b9fc414f86d9b3e2cf7e2194": {
     "model_module": "@jupyter-widgets/base",
     "model_name": "LayoutModel",
     "state": {
      "_model_module": "@jupyter-widgets/base",
      "_model_module_version": "1.2.0",
      "_model_name": "LayoutModel",
      "_view_count": null,
      "_view_module": "@jupyter-widgets/base",
      "_view_module_version": "1.2.0",
      "_view_name": "LayoutView",
      "align_content": null,
      "align_items": null,
      "align_self": null,
      "border": null,
      "bottom": null,
      "display": null,
      "flex": null,
      "flex_flow": null,
      "grid_area": null,
      "grid_auto_columns": null,
      "grid_auto_flow": null,
      "grid_auto_rows": null,
      "grid_column": null,
      "grid_gap": null,
      "grid_row": null,
      "grid_template_areas": null,
      "grid_template_columns": null,
      "grid_template_rows": null,
      "height": null,
      "justify_content": null,
      "justify_items": null,
      "left": null,
      "margin": null,
      "max_height": null,
      "max_width": null,
      "min_height": null,
      "min_width": null,
      "object_fit": null,
      "object_position": null,
      "order": null,
      "overflow": null,
      "overflow_x": null,
      "overflow_y": null,
      "padding": null,
      "right": null,
      "top": null,
      "visibility": null,
      "width": null
     }
    },
    "6ab780b5c3444b169e7cd493c006dc32": {
     "model_module": "@jupyter-widgets/controls",
     "model_name": "HBoxModel",
     "state": {
      "_dom_classes": [],
      "_model_module": "@jupyter-widgets/controls",
      "_model_module_version": "1.5.0",
      "_model_name": "HBoxModel",
      "_view_count": null,
      "_view_module": "@jupyter-widgets/controls",
      "_view_module_version": "1.5.0",
      "_view_name": "HBoxView",
      "box_style": "",
      "children": [
       "IPY_MODEL_ad669e757de44266b8a8b9719e0fed92",
       "IPY_MODEL_a56d703514714eefb31cbdab8c7cd83b"
      ],
      "layout": "IPY_MODEL_d399ade3e34048d39f5ffbfc89757138"
     }
    },
    "6aec8669d0cf4623a987d419c4ab85c8": {
     "model_module": "@jupyter-widgets/controls",
     "model_name": "HTMLModel",
     "state": {
      "_dom_classes": [],
      "_model_module": "@jupyter-widgets/controls",
      "_model_module_version": "1.5.0",
      "_model_name": "HTMLModel",
      "_view_count": null,
      "_view_module": "@jupyter-widgets/controls",
      "_view_module_version": "1.5.0",
      "_view_name": "HTMLView",
      "description": "",
      "description_tooltip": null,
      "layout": "IPY_MODEL_6d957dae11604af5aef24c5894749c85",
      "placeholder": "​",
      "style": "IPY_MODEL_cf12c2a9a51541b39c191d5fd83935bc",
      "value": " 9920512/? [00:20&lt;00:00, 2582778.67it/s]"
     }
    },
    "6d957dae11604af5aef24c5894749c85": {
     "model_module": "@jupyter-widgets/base",
     "model_name": "LayoutModel",
     "state": {
      "_model_module": "@jupyter-widgets/base",
      "_model_module_version": "1.2.0",
      "_model_name": "LayoutModel",
      "_view_count": null,
      "_view_module": "@jupyter-widgets/base",
      "_view_module_version": "1.2.0",
      "_view_name": "LayoutView",
      "align_content": null,
      "align_items": null,
      "align_self": null,
      "border": null,
      "bottom": null,
      "display": null,
      "flex": null,
      "flex_flow": null,
      "grid_area": null,
      "grid_auto_columns": null,
      "grid_auto_flow": null,
      "grid_auto_rows": null,
      "grid_column": null,
      "grid_gap": null,
      "grid_row": null,
      "grid_template_areas": null,
      "grid_template_columns": null,
      "grid_template_rows": null,
      "height": null,
      "justify_content": null,
      "justify_items": null,
      "left": null,
      "margin": null,
      "max_height": null,
      "max_width": null,
      "min_height": null,
      "min_width": null,
      "object_fit": null,
      "object_position": null,
      "order": null,
      "overflow": null,
      "overflow_x": null,
      "overflow_y": null,
      "padding": null,
      "right": null,
      "top": null,
      "visibility": null,
      "width": null
     }
    },
    "75417c3302b84526999e3f9e1c8e0721": {
     "model_module": "@jupyter-widgets/base",
     "model_name": "LayoutModel",
     "state": {
      "_model_module": "@jupyter-widgets/base",
      "_model_module_version": "1.2.0",
      "_model_name": "LayoutModel",
      "_view_count": null,
      "_view_module": "@jupyter-widgets/base",
      "_view_module_version": "1.2.0",
      "_view_name": "LayoutView",
      "align_content": null,
      "align_items": null,
      "align_self": null,
      "border": null,
      "bottom": null,
      "display": null,
      "flex": null,
      "flex_flow": null,
      "grid_area": null,
      "grid_auto_columns": null,
      "grid_auto_flow": null,
      "grid_auto_rows": null,
      "grid_column": null,
      "grid_gap": null,
      "grid_row": null,
      "grid_template_areas": null,
      "grid_template_columns": null,
      "grid_template_rows": null,
      "height": null,
      "justify_content": null,
      "justify_items": null,
      "left": null,
      "margin": null,
      "max_height": null,
      "max_width": null,
      "min_height": null,
      "min_width": null,
      "object_fit": null,
      "object_position": null,
      "order": null,
      "overflow": null,
      "overflow_x": null,
      "overflow_y": null,
      "padding": null,
      "right": null,
      "top": null,
      "visibility": null,
      "width": null
     }
    },
    "7dbc496ad75e4d15b23b24ef6afc009f": {
     "model_module": "@jupyter-widgets/controls",
     "model_name": "FloatProgressModel",
     "state": {
      "_dom_classes": [],
      "_model_module": "@jupyter-widgets/controls",
      "_model_module_version": "1.5.0",
      "_model_name": "FloatProgressModel",
      "_view_count": null,
      "_view_module": "@jupyter-widgets/controls",
      "_view_module_version": "1.5.0",
      "_view_name": "ProgressView",
      "bar_style": "info",
      "description": "",
      "description_tooltip": null,
      "layout": "IPY_MODEL_b5c4b09b958348b6830c8ea79a2f725c",
      "max": 1,
      "min": 0,
      "orientation": "horizontal",
      "style": "IPY_MODEL_2b5ab266b4cc439e90438422660f4dc6",
      "value": 1
     }
    },
    "821aec1ee7604a15a05e772fe0cfff5f": {
     "model_module": "@jupyter-widgets/base",
     "model_name": "LayoutModel",
     "state": {
      "_model_module": "@jupyter-widgets/base",
      "_model_module_version": "1.2.0",
      "_model_name": "LayoutModel",
      "_view_count": null,
      "_view_module": "@jupyter-widgets/base",
      "_view_module_version": "1.2.0",
      "_view_name": "LayoutView",
      "align_content": null,
      "align_items": null,
      "align_self": null,
      "border": null,
      "bottom": null,
      "display": null,
      "flex": null,
      "flex_flow": null,
      "grid_area": null,
      "grid_auto_columns": null,
      "grid_auto_flow": null,
      "grid_auto_rows": null,
      "grid_column": null,
      "grid_gap": null,
      "grid_row": null,
      "grid_template_areas": null,
      "grid_template_columns": null,
      "grid_template_rows": null,
      "height": null,
      "justify_content": null,
      "justify_items": null,
      "left": null,
      "margin": null,
      "max_height": null,
      "max_width": null,
      "min_height": null,
      "min_width": null,
      "object_fit": null,
      "object_position": null,
      "order": null,
      "overflow": null,
      "overflow_x": null,
      "overflow_y": null,
      "padding": null,
      "right": null,
      "top": null,
      "visibility": null,
      "width": null
     }
    },
    "89812af06a7c45ebb4d05f46fa528409": {
     "model_module": "@jupyter-widgets/controls",
     "model_name": "DescriptionStyleModel",
     "state": {
      "_model_module": "@jupyter-widgets/controls",
      "_model_module_version": "1.5.0",
      "_model_name": "DescriptionStyleModel",
      "_view_count": null,
      "_view_module": "@jupyter-widgets/base",
      "_view_module_version": "1.2.0",
      "_view_name": "StyleView",
      "description_width": ""
     }
    },
    "8c4ffedf2f5e4b36b6b7f31444499b54": {
     "model_module": "@jupyter-widgets/controls",
     "model_name": "ProgressStyleModel",
     "state": {
      "_model_module": "@jupyter-widgets/controls",
      "_model_module_version": "1.5.0",
      "_model_name": "ProgressStyleModel",
      "_view_count": null,
      "_view_module": "@jupyter-widgets/base",
      "_view_module_version": "1.2.0",
      "_view_name": "StyleView",
      "bar_color": null,
      "description_width": "initial"
     }
    },
    "9406b0405a1644b58ffbf70f0cde01d1": {
     "model_module": "@jupyter-widgets/controls",
     "model_name": "HBoxModel",
     "state": {
      "_dom_classes": [],
      "_model_module": "@jupyter-widgets/controls",
      "_model_module_version": "1.5.0",
      "_model_name": "HBoxModel",
      "_view_count": null,
      "_view_module": "@jupyter-widgets/controls",
      "_view_module_version": "1.5.0",
      "_view_name": "HBoxView",
      "box_style": "",
      "children": [
       "IPY_MODEL_7dbc496ad75e4d15b23b24ef6afc009f",
       "IPY_MODEL_c5dcd5f732b54cce8652cd7f59f0a738"
      ],
      "layout": "IPY_MODEL_045703d225f7458cb6a7dded13443a45"
     }
    },
    "a56d703514714eefb31cbdab8c7cd83b": {
     "model_module": "@jupyter-widgets/controls",
     "model_name": "HTMLModel",
     "state": {
      "_dom_classes": [],
      "_model_module": "@jupyter-widgets/controls",
      "_model_module_version": "1.5.0",
      "_model_name": "HTMLModel",
      "_view_count": null,
      "_view_module": "@jupyter-widgets/controls",
      "_view_module_version": "1.5.0",
      "_view_name": "HTMLView",
      "description": "",
      "description_tooltip": null,
      "layout": "IPY_MODEL_75417c3302b84526999e3f9e1c8e0721",
      "placeholder": "​",
      "style": "IPY_MODEL_bd27a39b614e436cb2c66ecdbb3249c1",
      "value": " 32768/? [00:00&lt;00:00, 95196.41it/s]"
     }
    },
    "abdbaaed3e9848fcbb0fe826dae45cda": {
     "model_module": "@jupyter-widgets/base",
     "model_name": "LayoutModel",
     "state": {
      "_model_module": "@jupyter-widgets/base",
      "_model_module_version": "1.2.0",
      "_model_name": "LayoutModel",
      "_view_count": null,
      "_view_module": "@jupyter-widgets/base",
      "_view_module_version": "1.2.0",
      "_view_name": "LayoutView",
      "align_content": null,
      "align_items": null,
      "align_self": null,
      "border": null,
      "bottom": null,
      "display": null,
      "flex": null,
      "flex_flow": null,
      "grid_area": null,
      "grid_auto_columns": null,
      "grid_auto_flow": null,
      "grid_auto_rows": null,
      "grid_column": null,
      "grid_gap": null,
      "grid_row": null,
      "grid_template_areas": null,
      "grid_template_columns": null,
      "grid_template_rows": null,
      "height": null,
      "justify_content": null,
      "justify_items": null,
      "left": null,
      "margin": null,
      "max_height": null,
      "max_width": null,
      "min_height": null,
      "min_width": null,
      "object_fit": null,
      "object_position": null,
      "order": null,
      "overflow": null,
      "overflow_x": null,
      "overflow_y": null,
      "padding": null,
      "right": null,
      "top": null,
      "visibility": null,
      "width": null
     }
    },
    "ad669e757de44266b8a8b9719e0fed92": {
     "model_module": "@jupyter-widgets/controls",
     "model_name": "FloatProgressModel",
     "state": {
      "_dom_classes": [],
      "_model_module": "@jupyter-widgets/controls",
      "_model_module_version": "1.5.0",
      "_model_name": "FloatProgressModel",
      "_view_count": null,
      "_view_module": "@jupyter-widgets/controls",
      "_view_module_version": "1.5.0",
      "_view_name": "ProgressView",
      "bar_style": "success",
      "description": "",
      "description_tooltip": null,
      "layout": "IPY_MODEL_5c7f4b56b9fc414f86d9b3e2cf7e2194",
      "max": 1,
      "min": 0,
      "orientation": "horizontal",
      "style": "IPY_MODEL_8c4ffedf2f5e4b36b6b7f31444499b54",
      "value": 1
     }
    },
    "b5c4b09b958348b6830c8ea79a2f725c": {
     "model_module": "@jupyter-widgets/base",
     "model_name": "LayoutModel",
     "state": {
      "_model_module": "@jupyter-widgets/base",
      "_model_module_version": "1.2.0",
      "_model_name": "LayoutModel",
      "_view_count": null,
      "_view_module": "@jupyter-widgets/base",
      "_view_module_version": "1.2.0",
      "_view_name": "LayoutView",
      "align_content": null,
      "align_items": null,
      "align_self": null,
      "border": null,
      "bottom": null,
      "display": null,
      "flex": null,
      "flex_flow": null,
      "grid_area": null,
      "grid_auto_columns": null,
      "grid_auto_flow": null,
      "grid_auto_rows": null,
      "grid_column": null,
      "grid_gap": null,
      "grid_row": null,
      "grid_template_areas": null,
      "grid_template_columns": null,
      "grid_template_rows": null,
      "height": null,
      "justify_content": null,
      "justify_items": null,
      "left": null,
      "margin": null,
      "max_height": null,
      "max_width": null,
      "min_height": null,
      "min_width": null,
      "object_fit": null,
      "object_position": null,
      "order": null,
      "overflow": null,
      "overflow_x": null,
      "overflow_y": null,
      "padding": null,
      "right": null,
      "top": null,
      "visibility": null,
      "width": null
     }
    },
    "b5f6b3f0376b4321a0b65cdfb9d06a04": {
     "model_module": "@jupyter-widgets/controls",
     "model_name": "FloatProgressModel",
     "state": {
      "_dom_classes": [],
      "_model_module": "@jupyter-widgets/controls",
      "_model_module_version": "1.5.0",
      "_model_name": "FloatProgressModel",
      "_view_count": null,
      "_view_module": "@jupyter-widgets/controls",
      "_view_module_version": "1.5.0",
      "_view_name": "ProgressView",
      "bar_style": "info",
      "description": "",
      "description_tooltip": null,
      "layout": "IPY_MODEL_1e7a4bf35fec4cd08c15dd33e1e394af",
      "max": 1,
      "min": 0,
      "orientation": "horizontal",
      "style": "IPY_MODEL_4227c770603744a9a85f6c8e1d590324",
      "value": 1
     }
    },
    "bd27a39b614e436cb2c66ecdbb3249c1": {
     "model_module": "@jupyter-widgets/controls",
     "model_name": "DescriptionStyleModel",
     "state": {
      "_model_module": "@jupyter-widgets/controls",
      "_model_module_version": "1.5.0",
      "_model_name": "DescriptionStyleModel",
      "_view_count": null,
      "_view_module": "@jupyter-widgets/base",
      "_view_module_version": "1.2.0",
      "_view_name": "StyleView",
      "description_width": ""
     }
    },
    "c415db6ad1744c2b93d20e4b29088840": {
     "model_module": "@jupyter-widgets/controls",
     "model_name": "HTMLModel",
     "state": {
      "_dom_classes": [],
      "_model_module": "@jupyter-widgets/controls",
      "_model_module_version": "1.5.0",
      "_model_name": "HTMLModel",
      "_view_count": null,
      "_view_module": "@jupyter-widgets/controls",
      "_view_module_version": "1.5.0",
      "_view_name": "HTMLView",
      "description": "",
      "description_tooltip": null,
      "layout": "IPY_MODEL_821aec1ee7604a15a05e772fe0cfff5f",
      "placeholder": "​",
      "style": "IPY_MODEL_89812af06a7c45ebb4d05f46fa528409",
      "value": " 8192/? [00:00&lt;00:00, 16679.61it/s]"
     }
    },
    "c5dcd5f732b54cce8652cd7f59f0a738": {
     "model_module": "@jupyter-widgets/controls",
     "model_name": "HTMLModel",
     "state": {
      "_dom_classes": [],
      "_model_module": "@jupyter-widgets/controls",
      "_model_module_version": "1.5.0",
      "_model_name": "HTMLModel",
      "_view_count": null,
      "_view_module": "@jupyter-widgets/controls",
      "_view_module_version": "1.5.0",
      "_view_name": "HTMLView",
      "description": "",
      "description_tooltip": null,
      "layout": "IPY_MODEL_5c1784fc0b4f4656b1d51a928621c7ec",
      "placeholder": "​",
      "style": "IPY_MODEL_3ca4cf4e49444b639f869a1220a96411",
      "value": " 1654784/? [00:14&lt;00:00, 350671.42it/s]"
     }
    },
    "cf12c2a9a51541b39c191d5fd83935bc": {
     "model_module": "@jupyter-widgets/controls",
     "model_name": "DescriptionStyleModel",
     "state": {
      "_model_module": "@jupyter-widgets/controls",
      "_model_module_version": "1.5.0",
      "_model_name": "DescriptionStyleModel",
      "_view_count": null,
      "_view_module": "@jupyter-widgets/base",
      "_view_module_version": "1.2.0",
      "_view_name": "StyleView",
      "description_width": ""
     }
    },
    "d399ade3e34048d39f5ffbfc89757138": {
     "model_module": "@jupyter-widgets/base",
     "model_name": "LayoutModel",
     "state": {
      "_model_module": "@jupyter-widgets/base",
      "_model_module_version": "1.2.0",
      "_model_name": "LayoutModel",
      "_view_count": null,
      "_view_module": "@jupyter-widgets/base",
      "_view_module_version": "1.2.0",
      "_view_name": "LayoutView",
      "align_content": null,
      "align_items": null,
      "align_self": null,
      "border": null,
      "bottom": null,
      "display": null,
      "flex": null,
      "flex_flow": null,
      "grid_area": null,
      "grid_auto_columns": null,
      "grid_auto_flow": null,
      "grid_auto_rows": null,
      "grid_column": null,
      "grid_gap": null,
      "grid_row": null,
      "grid_template_areas": null,
      "grid_template_columns": null,
      "grid_template_rows": null,
      "height": null,
      "justify_content": null,
      "justify_items": null,
      "left": null,
      "margin": null,
      "max_height": null,
      "max_width": null,
      "min_height": null,
      "min_width": null,
      "object_fit": null,
      "object_position": null,
      "order": null,
      "overflow": null,
      "overflow_x": null,
      "overflow_y": null,
      "padding": null,
      "right": null,
      "top": null,
      "visibility": null,
      "width": null
     }
    },
    "e184901159484102979ec73003418f9d": {
     "model_module": "@jupyter-widgets/controls",
     "model_name": "HBoxModel",
     "state": {
      "_dom_classes": [],
      "_model_module": "@jupyter-widgets/controls",
      "_model_module_version": "1.5.0",
      "_model_name": "HBoxModel",
      "_view_count": null,
      "_view_module": "@jupyter-widgets/controls",
      "_view_module_version": "1.5.0",
      "_view_name": "HBoxView",
      "box_style": "",
      "children": [
       "IPY_MODEL_238779f0c66644b99ffeb01136204f38",
       "IPY_MODEL_c415db6ad1744c2b93d20e4b29088840"
      ],
      "layout": "IPY_MODEL_abdbaaed3e9848fcbb0fe826dae45cda"
     }
    },
    "fe906f90a5d245459c27cebf13476dbe": {
     "model_module": "@jupyter-widgets/base",
     "model_name": "LayoutModel",
     "state": {
      "_model_module": "@jupyter-widgets/base",
      "_model_module_version": "1.2.0",
      "_model_name": "LayoutModel",
      "_view_count": null,
      "_view_module": "@jupyter-widgets/base",
      "_view_module_version": "1.2.0",
      "_view_name": "LayoutView",
      "align_content": null,
      "align_items": null,
      "align_self": null,
      "border": null,
      "bottom": null,
      "display": null,
      "flex": null,
      "flex_flow": null,
      "grid_area": null,
      "grid_auto_columns": null,
      "grid_auto_flow": null,
      "grid_auto_rows": null,
      "grid_column": null,
      "grid_gap": null,
      "grid_row": null,
      "grid_template_areas": null,
      "grid_template_columns": null,
      "grid_template_rows": null,
      "height": null,
      "justify_content": null,
      "justify_items": null,
      "left": null,
      "margin": null,
      "max_height": null,
      "max_width": null,
      "min_height": null,
      "min_width": null,
      "object_fit": null,
      "object_position": null,
      "order": null,
      "overflow": null,
      "overflow_x": null,
      "overflow_y": null,
      "padding": null,
      "right": null,
      "top": null,
      "visibility": null,
      "width": null
     }
    }
   }
  }
 },
 "nbformat": 4,
 "nbformat_minor": 1
}
