{
  "nbformat": 4,
  "nbformat_minor": 0,
  "metadata": {
    "colab": {
      "name": "S8_Colab code import run final.ipynb",
      "provenance": [],
      "collapsed_sections": []
    },
    "kernelspec": {
      "name": "python3",
      "display_name": "Python 3"
    },
    "accelerator": "GPU"
  },
  "cells": [
    {
      "cell_type": "markdown",
      "metadata": {
        "id": "i_JrwnWT2iTi",
        "colab_type": "text"
      },
      "source": [
        "# Final S8"
      ]
    },
    {
      "cell_type": "code",
      "metadata": {
        "id": "dQwgdVnw2hWE",
        "colab_type": "code",
        "colab": {
          "base_uri": "https://localhost:8080/",
          "height": 34
        },
        "outputId": "d21924bc-945e-4087-9ea6-0d74474e6528"
      },
      "source": [
        "# mount gdrive\n",
        "from google.colab import drive\n",
        "drive.mount('/content/gdrive',force_remount=True)"
      ],
      "execution_count": 1,
      "outputs": [
        {
          "output_type": "stream",
          "text": [
            "Mounted at /content/gdrive\n"
          ],
          "name": "stdout"
        }
      ]
    },
    {
      "cell_type": "code",
      "metadata": {
        "id": "IFz0dB1B2pIm",
        "colab_type": "code",
        "colab": {}
      },
      "source": [
        "import sys\n",
        "folder = '/content/gdrive/My Drive/S8'\n",
        "sys.path.append(folder)\n",
        "# sys.path"
      ],
      "execution_count": 2,
      "outputs": []
    },
    {
      "cell_type": "code",
      "metadata": {
        "id": "xJSAJMTg25_r",
        "colab_type": "code",
        "colab": {
          "base_uri": "https://localhost:8080/",
          "height": 37
        },
        "outputId": "0dee750a-f56f-44e7-962d-764d56cc06e0"
      },
      "source": [
        "import os\n",
        "os.getcwd()"
      ],
      "execution_count": 3,
      "outputs": [
        {
          "output_type": "execute_result",
          "data": {
            "application/vnd.google.colaboratory.intrinsic+json": {
              "type": "string"
            },
            "text/plain": [
              "'/content'"
            ]
          },
          "metadata": {
            "tags": []
          },
          "execution_count": 3
        }
      ]
    },
    {
      "cell_type": "code",
      "metadata": {
        "id": "6pYHZMzq26xj",
        "colab_type": "code",
        "colab": {
          "base_uri": "https://localhost:8080/",
          "height": 34
        },
        "outputId": "7831db21-3912-42b5-d2a8-01ce23e35934"
      },
      "source": [
        "%cd '/content/gdrive/My Drive/S8'"
      ],
      "execution_count": 4,
      "outputs": [
        {
          "output_type": "stream",
          "text": [
            "/content/gdrive/My Drive/S8\n"
          ],
          "name": "stdout"
        }
      ]
    },
    {
      "cell_type": "code",
      "metadata": {
        "id": "-9WcU4DOUDRT",
        "colab_type": "code",
        "colab": {
          "base_uri": "https://localhost:8080/",
          "height": 204
        },
        "outputId": "29cedf65-5d10-4ad6-bb26-14aebb106b08"
      },
      "source": [
        "os.listdir()"
      ],
      "execution_count": 5,
      "outputs": [
        {
          "output_type": "execute_result",
          "data": {
            "text/plain": [
              "['CONSTANTS.py',\n",
              " 'README.md',\n",
              " 'ResNet18_S8_Cifar10_Final.ipynb',\n",
              " 'config.cfg',\n",
              " 'train_test_dataloader.py',\n",
              " 'train_test.py',\n",
              " 'utility.py',\n",
              " 'models',\n",
              " 'requirements.txt',\n",
              " '__pycache__',\n",
              " 'main.py']"
            ]
          },
          "metadata": {
            "tags": []
          },
          "execution_count": 5
        }
      ]
    },
    {
      "cell_type": "code",
      "metadata": {
        "id": "edFuoXqe2-Gj",
        "colab_type": "code",
        "colab": {
          "base_uri": "https://localhost:8080/"
        },
        "outputId": "79d5ea9a-029d-4d5f-d221-a449f70bd45b"
      },
      "source": [
        "!pip install -r requirements.txt"
      ],
      "execution_count": 6,
      "outputs": [
        {
          "output_type": "stream",
          "text": [
            "Requirement already satisfied: torchtoolbox in /usr/local/lib/python3.6/dist-packages (from -r requirements.txt (line 1)) (0.1.5)\n",
            "Requirement already satisfied: torchvision in /usr/local/lib/python3.6/dist-packages (from -r requirements.txt (line 2)) (0.7.0+cu101)\n",
            "Requirement already satisfied: scikit-learn in /usr/local/lib/python3.6/dist-packages (from torchtoolbox->-r requirements.txt (line 1)) (0.22.2.post1)\n",
            "Requirement already satisfied: scipy in /usr/local/lib/python3.6/dist-packages (from torchtoolbox->-r requirements.txt (line 1)) (1.4.1)\n",
            "Requirement already satisfied: tqdm in /usr/local/lib/python3.6/dist-packages (from torchtoolbox->-r requirements.txt (line 1)) (4.41.1)\n",
            "Requirement already satisfied: opencv-python in /usr/local/lib/python3.6/dist-packages (from torchtoolbox->-r requirements.txt (line 1)) (4.1.2.30)\n",
            "Requirement already satisfied: six in /usr/local/lib/python3.6/dist-packages (from torchtoolbox->-r requirements.txt (line 1)) (1.15.0)\n",
            "Requirement already satisfied: lmdb in /usr/local/lib/python3.6/dist-packages (from torchtoolbox->-r requirements.txt (line 1)) (0.99)\n",
            "Requirement already satisfied: numpy in /usr/local/lib/python3.6/dist-packages (from torchtoolbox->-r requirements.txt (line 1)) (1.18.5)\n",
            "Requirement already satisfied: pyarrow in /usr/local/lib/python3.6/dist-packages (from torchtoolbox->-r requirements.txt (line 1)) (0.14.1)\n",
            "Requirement already satisfied: pillow>=4.1.1 in /usr/local/lib/python3.6/dist-packages (from torchvision->-r requirements.txt (line 2)) (7.0.0)\n",
            "Requirement already satisfied: torch==1.6.0 in /usr/local/lib/python3.6/dist-packages (from torchvision->-r requirements.txt (line 2)) (1.6.0+cu101)\n",
            "Requirement already satisfied: joblib>=0.11 in /usr/local/lib/python3.6/dist-packages (from scikit-learn->torchtoolbox->-r requirements.txt (line 1)) (0.16.0)\n",
            "Requirement already satisfied: future in /usr/local/lib/python3.6/dist-packages (from torch==1.6.0->torchvision->-r requirements.txt (line 2)) (0.16.0)\n"
          ],
          "name": "stdout"
        }
      ]
    },
    {
      "cell_type": "code",
      "metadata": {
        "id": "PIoaDSyxDqSJ",
        "colab_type": "code",
        "colab": {
          "base_uri": "https://localhost:8080/",
          "height": 51
        },
        "outputId": "ac54e517-2a23-42ac-feff-b23d987b1a9b"
      },
      "source": [
        "from main import run_model_run\n",
        "import utility"
      ],
      "execution_count": 7,
      "outputs": [
        {
          "output_type": "stream",
          "text": [
            "\n",
            " CUDA is available\n"
          ],
          "name": "stdout"
        }
      ]
    },
    {
      "cell_type": "code",
      "metadata": {
        "id": "QiC6PBc5JVpj",
        "colab_type": "code",
        "colab": {
          "base_uri": "https://localhost:8080/",
          "height": 68
        },
        "outputId": "014fa683-0bbf-4732-bcec-c4b8bc271b11"
      },
      "source": [
        "print(utility.check_gpu_availability())"
      ],
      "execution_count": 8,
      "outputs": [
        {
          "output_type": "stream",
          "text": [
            "\n",
            " CUDA is available\n",
            "True\n"
          ],
          "name": "stdout"
        }
      ]
    },
    {
      "cell_type": "code",
      "metadata": {
        "id": "FG28md0mEokU",
        "colab_type": "code",
        "colab": {
          "base_uri": "https://localhost:8080/",
          "height": 1000
        },
        "outputId": "58333519-12e4-4939-9792-fd0a7ef2e30a"
      },
      "source": [
        "run_model_run(session=\"s8\")"
      ],
      "execution_count": 9,
      "outputs": [
        {
          "output_type": "stream",
          "text": [
            "Files already downloaded and verified\n",
            "Files already downloaded and verified\n",
            "\n",
            " CUDA is available\n",
            "\n",
            " CUDA is available\n",
            "\n",
            "Running for:  L2+BN\n",
            "----------------------------------------------------------------\n",
            "        Layer (type)               Output Shape         Param #\n",
            "================================================================\n",
            "            Conv2d-1           [-1, 64, 32, 32]           1,728\n",
            "       BatchNorm2d-2           [-1, 64, 32, 32]             128\n",
            "            Conv2d-3           [-1, 64, 32, 32]          36,864\n",
            "       BatchNorm2d-4           [-1, 64, 32, 32]             128\n",
            "            Conv2d-5           [-1, 64, 32, 32]          36,864\n",
            "       BatchNorm2d-6           [-1, 64, 32, 32]             128\n",
            "        BasicBlock-7           [-1, 64, 32, 32]               0\n",
            "            Conv2d-8           [-1, 64, 32, 32]          36,864\n",
            "       BatchNorm2d-9           [-1, 64, 32, 32]             128\n",
            "           Conv2d-10           [-1, 64, 32, 32]          36,864\n",
            "      BatchNorm2d-11           [-1, 64, 32, 32]             128\n",
            "       BasicBlock-12           [-1, 64, 32, 32]               0\n",
            "           Conv2d-13          [-1, 128, 16, 16]          73,728\n",
            "      BatchNorm2d-14          [-1, 128, 16, 16]             256\n",
            "           Conv2d-15          [-1, 128, 16, 16]         147,456\n",
            "      BatchNorm2d-16          [-1, 128, 16, 16]             256\n",
            "           Conv2d-17          [-1, 128, 16, 16]           8,192\n",
            "      BatchNorm2d-18          [-1, 128, 16, 16]             256\n",
            "       BasicBlock-19          [-1, 128, 16, 16]               0\n",
            "           Conv2d-20          [-1, 128, 16, 16]         147,456\n",
            "      BatchNorm2d-21          [-1, 128, 16, 16]             256\n",
            "           Conv2d-22          [-1, 128, 16, 16]         147,456\n",
            "      BatchNorm2d-23          [-1, 128, 16, 16]             256\n",
            "       BasicBlock-24          [-1, 128, 16, 16]               0\n",
            "           Conv2d-25            [-1, 256, 8, 8]         294,912\n",
            "      BatchNorm2d-26            [-1, 256, 8, 8]             512\n",
            "           Conv2d-27            [-1, 256, 8, 8]         589,824\n",
            "      BatchNorm2d-28            [-1, 256, 8, 8]             512\n",
            "           Conv2d-29            [-1, 256, 8, 8]          32,768\n",
            "      BatchNorm2d-30            [-1, 256, 8, 8]             512\n",
            "       BasicBlock-31            [-1, 256, 8, 8]               0\n",
            "           Conv2d-32            [-1, 256, 8, 8]         589,824\n",
            "      BatchNorm2d-33            [-1, 256, 8, 8]             512\n",
            "           Conv2d-34            [-1, 256, 8, 8]         589,824\n",
            "      BatchNorm2d-35            [-1, 256, 8, 8]             512\n",
            "       BasicBlock-36            [-1, 256, 8, 8]               0\n",
            "           Conv2d-37            [-1, 512, 4, 4]       1,179,648\n",
            "      BatchNorm2d-38            [-1, 512, 4, 4]           1,024\n",
            "           Conv2d-39            [-1, 512, 4, 4]       2,359,296\n",
            "      BatchNorm2d-40            [-1, 512, 4, 4]           1,024\n",
            "           Conv2d-41            [-1, 512, 4, 4]         131,072\n",
            "      BatchNorm2d-42            [-1, 512, 4, 4]           1,024\n",
            "       BasicBlock-43            [-1, 512, 4, 4]               0\n",
            "           Conv2d-44            [-1, 512, 4, 4]       2,359,296\n",
            "      BatchNorm2d-45            [-1, 512, 4, 4]           1,024\n",
            "           Conv2d-46            [-1, 512, 4, 4]       2,359,296\n",
            "      BatchNorm2d-47            [-1, 512, 4, 4]           1,024\n",
            "       BasicBlock-48            [-1, 512, 4, 4]               0\n",
            "           Linear-49                   [-1, 10]           5,130\n",
            "================================================================\n",
            "Total params: 11,173,962\n",
            "Trainable params: 11,173,962\n",
            "Non-trainable params: 0\n",
            "----------------------------------------------------------------\n",
            "Input size (MB): 0.01\n",
            "Forward/backward pass size (MB): 11.25\n",
            "Params size (MB): 42.63\n",
            "Estimated Total Size (MB): 53.89\n",
            "----------------------------------------------------------------\n",
            "None\n",
            "\n",
            "\n",
            "epoch: 1\n",
            "epoch:1.... batch:1...loss:2.3612\n",
            "epoch:1.... batch:101...loss:166.1069\n",
            "epoch:1.... batch:201...loss:292.6822\n",
            "epoch:1.... batch:301...loss:399.3836\n",
            "\n",
            ">>>lr: 0.007\n",
            "\n",
            "Epoch : 1 Train loss:0.0097\n",
            "\n",
            "Train set: \t\t Accuracy: 27505/50000 (55.010000%)\n",
            "\n",
            "Test set: Average loss: 0.0073, Accuracy: 6693/10000 (66.930000%)\n",
            "\n",
            "\n",
            "\n",
            "epoch: 2\n",
            "epoch:2.... batch:1...loss:0.8792\n",
            "epoch:2.... batch:101...loss:85.5832\n",
            "epoch:2.... batch:201...loss:163.5977\n",
            "epoch:2.... batch:301...loss:237.0896\n",
            "\n",
            ">>>lr: 0.007\n",
            "\n",
            "Epoch : 2 Train loss:0.0060\n",
            "\n",
            "Train set: \t\t Accuracy: 36606/50000 (73.212000%)\n",
            "\n",
            "Test set: Average loss: 0.0055, Accuracy: 7565/10000 (75.650000%)\n",
            "\n",
            "\n",
            "\n",
            "epoch: 3\n",
            "epoch:3.... batch:1...loss:0.7039\n",
            "epoch:3.... batch:101...loss:58.2169\n",
            "epoch:3.... batch:201...loss:113.3706\n",
            "epoch:3.... batch:301...loss:167.9903\n",
            "\n",
            ">>>lr: 0.004053\n",
            "\n",
            "Epoch : 3 Train loss:0.0044\n",
            "\n",
            "Train set: \t\t Accuracy: 40392/50000 (80.784000%)\n",
            "\n",
            "Test set: Average loss: 0.0054, Accuracy: 7631/10000 (76.310000%)\n",
            "\n",
            "\n",
            "\n",
            "epoch: 4\n",
            "epoch:4.... batch:1...loss:0.5308\n",
            "epoch:4.... batch:101...loss:48.6845\n",
            "epoch:4.... batch:201...loss:96.8957\n",
            "epoch:4.... batch:301...loss:145.1658\n",
            "\n",
            ">>>lr: 0.004053\n",
            "\n",
            "Epoch : 4 Train loss:0.0038\n",
            "\n",
            "Train set: \t\t Accuracy: 41656/50000 (83.312000%)\n",
            "\n",
            "Test set: Average loss: 0.0048, Accuracy: 7891/10000 (78.910000%)\n",
            "\n",
            "\n",
            "\n",
            "epoch: 5\n",
            "epoch:5.... batch:1...loss:0.3879\n",
            "epoch:5.... batch:101...loss:40.2262\n",
            "epoch:5.... batch:201...loss:78.3683\n",
            "epoch:5.... batch:301...loss:116.7385\n",
            "\n",
            ">>>lr: 0.002346687\n",
            "\n",
            "Epoch : 5 Train loss:0.0030\n",
            "\n",
            "Train set: \t\t Accuracy: 43362/50000 (86.724000%)\n",
            "\n",
            "Test set: Average loss: 0.0035, Accuracy: 8487/10000 (84.870000%)\n",
            "\n",
            "\n",
            "\n",
            "epoch: 6\n",
            "epoch:6.... batch:1...loss:0.3030\n",
            "epoch:6.... batch:101...loss:35.0485\n",
            "epoch:6.... batch:201...loss:69.3635\n",
            "epoch:6.... batch:301...loss:104.0263\n",
            "\n",
            ">>>lr: 0.002346687\n",
            "\n",
            "Epoch : 6 Train loss:0.0027\n",
            "\n",
            "Train set: \t\t Accuracy: 43973/50000 (87.946000%)\n",
            "\n",
            "Test set: Average loss: 0.0033, Accuracy: 8570/10000 (85.700000%)\n",
            "\n",
            "\n",
            "\n",
            "epoch: 7\n",
            "epoch:7.... batch:1...loss:0.2571\n",
            "epoch:7.... batch:101...loss:29.4266\n",
            "epoch:7.... batch:201...loss:57.3148\n",
            "epoch:7.... batch:301...loss:85.7900\n",
            "\n",
            ">>>lr: 0.001358731773\n",
            "\n",
            "Epoch : 7 Train loss:0.0022\n",
            "\n",
            "Train set: \t\t Accuracy: 45121/50000 (90.242000%)\n",
            "\n",
            "Test set: Average loss: 0.0031, Accuracy: 8676/10000 (86.760000%)\n",
            "\n",
            "\n",
            "\n",
            "epoch: 8\n",
            "epoch:8.... batch:1...loss:0.1349\n",
            "epoch:8.... batch:101...loss:25.1613\n",
            "epoch:8.... batch:201...loss:51.4869\n",
            "epoch:8.... batch:301...loss:78.5252\n",
            "\n",
            ">>>lr: 0.001358731773\n",
            "\n",
            "Epoch : 8 Train loss:0.0021\n",
            "\n",
            "Train set: \t\t Accuracy: 45454/50000 (90.908000%)\n",
            "\n",
            "Test set: Average loss: 0.0030, Accuracy: 8708/10000 (87.080000%)\n",
            "\n",
            "\n",
            "\n",
            "epoch: 9\n",
            "epoch:9.... batch:1...loss:0.2623\n",
            "epoch:9.... batch:101...loss:23.0238\n",
            "epoch:9.... batch:201...loss:45.5368\n",
            "epoch:9.... batch:301...loss:67.0871\n",
            "\n",
            ">>>lr: 0.0007867056965669999\n",
            "\n",
            "Epoch : 9 Train loss:0.0017\n",
            "\n",
            "Train set: \t\t Accuracy: 46264/50000 (92.528000%)\n",
            "\n",
            "Test set: Average loss: 0.0030, Accuracy: 8701/10000 (87.010000%)\n",
            "\n",
            "\n",
            "\n",
            "epoch: 10\n",
            "epoch:10.... batch:1...loss:0.1884\n",
            "epoch:10.... batch:101...loss:19.5589\n",
            "epoch:10.... batch:201...loss:39.6805\n",
            "epoch:10.... batch:301...loss:60.4020\n",
            "\n",
            ">>>lr: 0.0007867056965669999\n",
            "\n",
            "Epoch : 10 Train loss:0.0016\n",
            "\n",
            "Train set: \t\t Accuracy: 46605/50000 (93.210000%)\n",
            "\n",
            "Test set: Average loss: 0.0029, Accuracy: 8784/10000 (87.840000%)\n",
            "\n",
            "\n",
            "\n",
            "epoch: 11\n",
            "epoch:11.... batch:1...loss:0.1395\n",
            "epoch:11.... batch:101...loss:18.4948\n",
            "epoch:11.... batch:201...loss:36.8981\n",
            "epoch:11.... batch:301...loss:54.8032\n",
            "\n",
            ">>>lr: 0.00045550259831229293\n",
            "\n",
            "Epoch : 11 Train loss:0.0014\n",
            "\n",
            "Train set: \t\t Accuracy: 46975/50000 (93.950000%)\n",
            "\n",
            "Test set: Average loss: 0.0028, Accuracy: 8802/10000 (88.020000%)\n",
            "\n",
            "\n",
            "\n",
            "epoch: 12\n",
            "epoch:12.... batch:1...loss:0.1454\n",
            "epoch:12.... batch:101...loss:16.4780\n",
            "epoch:12.... batch:201...loss:32.8884\n",
            "epoch:12.... batch:301...loss:50.2824\n",
            "\n",
            ">>>lr: 0.00045550259831229293\n",
            "\n",
            "Epoch : 12 Train loss:0.0013\n",
            "\n",
            "Train set: \t\t Accuracy: 47228/50000 (94.456000%)\n",
            "\n",
            "Test set: Average loss: 0.0028, Accuracy: 8809/10000 (88.090000%)\n",
            "\n",
            "\n",
            "\n",
            "epoch: 13\n",
            "epoch:13.... batch:1...loss:0.1049\n",
            "epoch:13.... batch:101...loss:15.6463\n",
            "epoch:13.... batch:201...loss:30.7714\n",
            "epoch:13.... batch:301...loss:46.4590\n",
            "\n",
            ">>>lr: 0.00026373600442281756\n",
            "\n",
            "Epoch : 13 Train loss:0.0012\n",
            "\n",
            "Train set: \t\t Accuracy: 47488/50000 (94.976000%)\n",
            "\n",
            "Test set: Average loss: 0.0027, Accuracy: 8817/10000 (88.170000%)\n",
            "\n",
            "\n",
            "\n",
            "epoch: 14\n",
            "epoch:14.... batch:1...loss:0.1647\n",
            "epoch:14.... batch:101...loss:14.6935\n",
            "epoch:14.... batch:201...loss:28.7991\n",
            "epoch:14.... batch:301...loss:43.8978\n",
            "\n",
            ">>>lr: 0.00026373600442281756\n",
            "\n",
            "Epoch : 14 Train loss:0.0011\n",
            "\n",
            "Train set: \t\t Accuracy: 47635/50000 (95.270000%)\n",
            "\n",
            "Test set: Average loss: 0.0027, Accuracy: 8873/10000 (88.730000%)\n",
            "\n",
            "\n",
            "\n",
            "epoch: 15\n",
            "epoch:15.... batch:1...loss:0.1978\n",
            "epoch:15.... batch:101...loss:13.7115\n",
            "epoch:15.... batch:201...loss:28.0278\n",
            "epoch:15.... batch:301...loss:41.7745\n",
            "\n",
            ">>>lr: 0.00015270314656081136\n",
            "\n",
            "Epoch : 15 Train loss:0.0011\n",
            "\n",
            "Train set: \t\t Accuracy: 47833/50000 (95.666000%)\n",
            "\n",
            "Test set: Average loss: 0.0027, Accuracy: 8890/10000 (88.900000%)\n",
            "\n"
          ],
          "name": "stdout"
        }
      ]
    },
    {
      "cell_type": "code",
      "metadata": {
        "id": "sc38ujMaG0AU",
        "colab_type": "code",
        "colab": {}
      },
      "source": [
        ""
      ],
      "execution_count": 9,
      "outputs": []
    }
  ]
}