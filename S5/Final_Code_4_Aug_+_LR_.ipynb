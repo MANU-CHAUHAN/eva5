{
  "nbformat": 4,
  "nbformat_minor": 0,
  "metadata": {
    "colab": {
      "name": "Final Code 4 BN+DO -> parameters + avegrage_pooling changed_new -> Aug + LR .ipynb",
      "provenance": [],
      "collapsed_sections": []
    },
    "kernelspec": {
      "name": "python3",
      "display_name": "Python 3"
    },
    "accelerator": "GPU"
  },
  "cells": [
    {
      "cell_type": "code",
      "metadata": {
        "id": "0m2JWFliFfKT",
        "colab_type": "code",
        "colab": {}
      },
      "source": [
        "import torch\n",
        "import torch.nn.functional as f\n",
        "import torch.optim as optim\n",
        "import torch.nn as nn\n",
        "from torchvision import datasets, transforms\n",
        "from torchsummary import summary\n",
        "%matplotlib inline\n",
        "import matplotlib.pyplot as plt\n",
        "from torch.optim.lr_scheduler import StepLR"
      ],
      "execution_count": 1,
      "outputs": []
    },
    {
      "cell_type": "code",
      "metadata": {
        "id": "b-FxBmYEaDUQ",
        "colab_type": "code",
        "colab": {}
      },
      "source": [
        "# Train data transformation\n",
        "\n",
        "train_transforms = transforms.Compose([transforms.RandomRotation((-9.0, 9.0), fill=(1,)),\n",
        "                                       transforms.ToTensor(),\n",
        "                                       transforms.Normalize(mean=(0.1307,), std=(0.3081,))\n",
        "                                       ])\n",
        "                                       \n",
        "\n",
        "# Test transform\n",
        "\n",
        "test_transforms = transforms.Compose([\n",
        "                                      transforms.ToTensor(),\n",
        "                                      transforms.Normalize(mean=(0.1307,), std=(0.3081,))\n",
        "                                      ])"
      ],
      "execution_count": 6,
      "outputs": []
    },
    {
      "cell_type": "markdown",
      "metadata": {
        "id": "i95EIZR8fDOc",
        "colab_type": "text"
      },
      "source": [
        "Dataset and creating Train/Test split"
      ]
    },
    {
      "cell_type": "code",
      "metadata": {
        "id": "6lSTxrRxfCNX",
        "colab_type": "code",
        "colab": {}
      },
      "source": [
        "train = datasets.MNIST(root='../data', train=True, download=True, transform=train_transforms)\n",
        "\n",
        "test = datasets.MNIST(root='../data', train=False, download=True, transform=test_transforms)"
      ],
      "execution_count": 7,
      "outputs": []
    },
    {
      "cell_type": "markdown",
      "metadata": {
        "id": "3kPahiX8fwCt",
        "colab_type": "text"
      },
      "source": [
        "Dataloader arguments and train test dataloaders"
      ]
    },
    {
      "cell_type": "code",
      "metadata": {
        "id": "3rmnyFuIfpBX",
        "colab_type": "code",
        "colab": {
          "base_uri": "https://localhost:8080/",
          "height": 34
        },
        "outputId": "a30bd8fe-8811-422f-dd59-fd212e90ab2c"
      },
      "source": [
        "torch.manual_seed(100)"
      ],
      "execution_count": 8,
      "outputs": [
        {
          "output_type": "execute_result",
          "data": {
            "text/plain": [
              "<torch._C.Generator at 0x7f2de1afd0c0>"
            ]
          },
          "metadata": {
            "tags": []
          },
          "execution_count": 8
        }
      ]
    },
    {
      "cell_type": "code",
      "metadata": {
        "id": "LGlATqr1fuu-",
        "colab_type": "code",
        "colab": {
          "base_uri": "https://localhost:8080/",
          "height": 51
        },
        "outputId": "eee16401-8a26-4c62-cc80-a14f3c5a16a5"
      },
      "source": [
        "cuda = torch.cuda.is_available()\n",
        "\n",
        "if cuda:\n",
        "  print('\\n CUDA is available')\n",
        "  torch.cuda.manual_seed(100)\n",
        "else:\n",
        "  print(\"\\n No GPU\")\n",
        "\n",
        "  "
      ],
      "execution_count": 9,
      "outputs": [
        {
          "output_type": "stream",
          "text": [
            "\n",
            " CUDA is available\n"
          ],
          "name": "stdout"
        }
      ]
    },
    {
      "cell_type": "code",
      "metadata": {
        "id": "qkJDkj3AVY1t",
        "colab_type": "code",
        "colab": {}
      },
      "source": [
        "WORKERS = 2\n",
        "BATCH_SIZE = 64"
      ],
      "execution_count": 12,
      "outputs": []
    },
    {
      "cell_type": "code",
      "metadata": {
        "id": "vJSyqVAolNHo",
        "colab_type": "code",
        "colab": {}
      },
      "source": [
        "dataloader_args = dict(shuffle=True, batch_size=BATCH_SIZE, num_workers=WORKERS, pin_memory=True) if cuda\\\n",
        " else dict(shuffle=True, batch_size=BATCH_SIZE)"
      ],
      "execution_count": 13,
      "outputs": []
    },
    {
      "cell_type": "code",
      "metadata": {
        "id": "31LEzXMCVXlU",
        "colab_type": "code",
        "colab": {}
      },
      "source": [
        "# train dataloader \n",
        "\n",
        "train_loader = torch.utils.data.DataLoader(dataset=train, **dataloader_args)\n",
        "\n",
        "\n",
        "# test dataloader\n",
        "\n",
        "test_loader = torch.utils.data.DataLoader(dataset=test, **dataloader_args)"
      ],
      "execution_count": 14,
      "outputs": []
    },
    {
      "cell_type": "code",
      "metadata": {
        "id": "4kMAL6RDj40g",
        "colab_type": "code",
        "colab": {}
      },
      "source": [
        "from tqdm import tqdm\n",
        "\n",
        "train_losses = []\n",
        "test_losses = []\n",
        "train_accuracy = []\n",
        "test_accuracy = []"
      ],
      "execution_count": 15,
      "outputs": []
    },
    {
      "cell_type": "code",
      "metadata": {
        "id": "Tkk0mOmZvv8W",
        "colab_type": "code",
        "colab": {}
      },
      "source": [
        "\n",
        "# def train(model, device, train_loader, optimizer, epochs=1, scheduler=None, test=False, test_loader=None, reset=None):\n",
        "#     if test and not test_loader:\n",
        "#         raise ValueError(\"`test`= True but `test_loader` not provided\")\n",
        "#     if reset:\n",
        "#       for i in reset:\n",
        "#           if i:\n",
        "#               i = []\n",
        "          \n",
        "#     model.train()\n",
        "#     for epoch in range(epochs):\n",
        "#       correct = 0\n",
        "#       processed = 0\n",
        "#       train_loss = 0\n",
        "#       print(f\"\\n\\nepoch: {epoch+1}\")\n",
        "#       pbar = tqdm(train_loader)\n",
        "#       for batch_idx, (data, target) in enumerate(pbar):\n",
        "#           data, target = data.to(device), target.to(device)\n",
        "#           optimizer.zero_grad()\n",
        "#           output = model(data)\n",
        "#           loss = f.nll_loss(output, target)\n",
        "#           train_loss += loss.item()\n",
        "#           loss.backward()\n",
        "#           optimizer.step()\n",
        "#           pred = output.argmax(dim=1, keepdim=True)  # get the index of the max log-probability\n",
        "#           correct += pred.eq(target.view_as(pred)).sum().item()\n",
        "#           processed += len(data)\n",
        "#       acc = 100 * correct/processed\n",
        "#       train_losses.append(train_loss)\n",
        "#       train_accuracy.append(acc)\n",
        "#       pbar.set_description(desc= f'loss={loss.item()} batch_id={batch_idx}')\n",
        "      \n",
        "#       if scheduler:\n",
        "#           print(f'lr: {scheduler.get_last_lr()[0]}')\n",
        "#           scheduler.step()\n",
        "      \n",
        "#       train_loss /= len(train_loader.dataset)\n",
        "#       print('\\nTrain set:                              Accuracy: {}/{} ({:.6f}%)'.format(correct, len(train_loader.dataset), 100.0 * correct / len(train_loader.dataset)))\n",
        "\n",
        "#       if test:\n",
        "#           model.eval()\n",
        "#           test_loss = 0\n",
        "#           correct = 0\n",
        "#           with torch.no_grad():\n",
        "#               for data, target in test_loader:\n",
        "#                   data, target = data.to(device), target.to(device)\n",
        "#                   output = model(data)\n",
        "#                   test_loss += f.nll_loss(output, target, reduction='sum').item()  # sum up batch loss\n",
        "#                   pred = output.argmax(dim=1, keepdim=True)  # get the index of the max log-probability\n",
        "#                   correct += pred.eq(target.view_as(pred)).sum().item()\n",
        "\n",
        "#           test_loss /= len(test_loader.dataset)\n",
        "#           test_losses.append(test_loss)\n",
        "#           test_accuracy.append(100. * correct / len(test_loader.dataset))\n",
        "\n",
        "#           print('\\nTest set: Average loss: {:.4f}, Accuracy: {}/{} ({:.6f}%)\\n'.format(\n",
        "#               test_loss, correct, len(test_loader.dataset),\n",
        "#               100. * correct / len(test_loader.dataset)))"
      ],
      "execution_count": 16,
      "outputs": []
    },
    {
      "cell_type": "code",
      "metadata": {
        "id": "lBQ8BESXR0w_",
        "colab_type": "code",
        "colab": {}
      },
      "source": [
        "\n",
        "def train(model, device, train_loader, optimizer, epochs=1, scheduler=None, test=False, test_loader=None, reset=None):\n",
        "    if test and not test_loader:\n",
        "        raise ValueError(\"`test`= True but `test_loader` not provided\")\n",
        "    if reset:\n",
        "      for i in reset:\n",
        "          if i:\n",
        "              i = []\n",
        "          \n",
        "    model.train()\n",
        "    for epoch in range(epochs):\n",
        "      correct = 0\n",
        "      processed = 0\n",
        "      train_loss = 0\n",
        "      print(f\"\\n\\nepoch: {epoch+1}\")\n",
        "      pbar = tqdm(train_loader)\n",
        "      for batch_idx, (data, target) in enumerate(pbar):\n",
        "          data, target = data.to(device), target.to(device)\n",
        "          optimizer.zero_grad()\n",
        "          output = model(data)\n",
        "          loss = f.nll_loss(output, target)\n",
        "          train_loss += loss.item()\n",
        "          loss.backward()\n",
        "          optimizer.step()\n",
        "          pred = output.argmax(dim=1, keepdim=True)  # get the index of the max log-probability\n",
        "          correct += pred.eq(target.view_as(pred)).sum().item()\n",
        "          processed += len(data)\n",
        "\n",
        "          if scheduler and  type(scheduler) == optim.lr_scheduler.CosineAnnealingLR:\n",
        "              # print(f'\\n>>>lr: {scheduler.get_last_lr()[0]}')\n",
        "              scheduler.step()\n",
        "\n",
        "\n",
        "      acc = 100 * correct/processed\n",
        "      train_losses.append(train_loss)\n",
        "      train_accuracy.append(acc)\n",
        "      pbar.set_description(desc= f'loss={loss.item()} batch_id={batch_idx}')\n",
        "      \n",
        "      if scheduler and not (type(scheduler) == optim.lr_scheduler.CosineAnnealingLR):\n",
        "          print(f'\\n>>>lr: {scheduler.get_last_lr()[0]}')\n",
        "          scheduler.step()\n",
        "      \n",
        "      if scheduler and type(scheduler) == optim.lr_scheduler.CosineAnnealingLR:\n",
        "          print('Reset scheduler')\n",
        "          scheduler = optim.lr_scheduler.CosineAnnealingLR(optimizer, int(len(train_loader.dataset)/BATCH_SIZE))\n",
        "\n",
        "      train_loss /= len(train_loader.dataset)\n",
        "      print('\\nTrain set:                              Accuracy: {}/{} ({:.6f}%)'.format(correct, len(train_loader.dataset), 100.0 * correct / len(train_loader.dataset)))\n",
        "\n",
        "      if test:\n",
        "          model.eval()\n",
        "          test_loss = 0\n",
        "          correct = 0\n",
        "          with torch.no_grad():\n",
        "              for data, target in test_loader:\n",
        "                  data, target = data.to(device), target.to(device)\n",
        "                  output = model(data)\n",
        "                  test_loss += f.nll_loss(output, target, reduction='sum').item()  # sum up batch loss\n",
        "                  pred = output.argmax(dim=1, keepdim=True)  # get the index of the max log-probability\n",
        "                  correct += pred.eq(target.view_as(pred)).sum().item()\n",
        "\n",
        "          test_loss /= len(test_loader.dataset)\n",
        "          test_losses.append(test_loss)\n",
        "          test_accuracy.append(100. * correct / len(test_loader.dataset))\n",
        "\n",
        "          print('\\nTest set: Average loss: {:.4f}, Accuracy: {}/{} ({:.6f}%)\\n'.format(\n",
        "              test_loss, correct, len(test_loader.dataset),\n",
        "              100. * correct / len(test_loader.dataset)))"
      ],
      "execution_count": 19,
      "outputs": []
    },
    {
      "cell_type": "markdown",
      "metadata": {
        "id": "Pnt67AW47Ye9",
        "colab_type": "text"
      },
      "source": [
        "## CODE 4 - > after BN + DO -> parameter decrease + Average Pooling \n",
        "\n",
        "#### Here I try to use Image Augmentation and learning rate scheduler to decrease learning rate with increasing epochs as in last code the network still looked promising.\n",
        "\n",
        "#### Hopefully gradual and decreasing learning rate at each step and with use of image augmentation for variations in training dataset could help the network cross the threshold value for test dataset accuracy.\n",
        "\n"
      ]
    },
    {
      "cell_type": "code",
      "metadata": {
        "colab_type": "code",
        "id": "dw7Y-UDCD6uW",
        "colab": {}
      },
      "source": [
        "class Net2(nn.Module):        \n",
        "    def __init__(self):\n",
        "        super(Net2, self).__init__()\n",
        "        # Input Block\n",
        "        self.convblock1 = nn.Sequential(\n",
        "            nn.Conv2d(in_channels=1, out_channels=10, kernel_size=(3, 3), padding=0, bias=False),\n",
        "            nn.ReLU(),\n",
        "            nn.BatchNorm2d(10)\n",
        "        ) # output_size = 26\n",
        "\n",
        "        # CONVOLUTION BLOCK 1\n",
        "        self.convblock2 = nn.Sequential(\n",
        "            nn.Conv2d(in_channels=10, out_channels=12, kernel_size=(3, 3), padding=0, bias=False),\n",
        "            nn.ReLU(),\n",
        "            nn.BatchNorm2d(12)\n",
        "        ) # output_size = 24\n",
        "        \n",
        "        # TRANSITION BLOCK 1\n",
        "        self.pool1 = nn.MaxPool2d(2, 2) # output_size = 12\n",
        "        \n",
        "        self.convblock3 = nn.Sequential( # mixing channel information here to re-create information into 16 channels\n",
        "            nn.Conv2d(in_channels=12, out_channels=14, kernel_size=(3, 3), padding=0, bias=False),\n",
        "            nn.ReLU(),\n",
        "            nn.BatchNorm2d(14)\n",
        "        ) # output_size = 12\n",
        "\n",
        "        \n",
        "        self.convblock4 = nn.Sequential(\n",
        "            nn.Conv2d(in_channels=14, out_channels=14, kernel_size=(3, 3), padding=0, bias=False),\n",
        "            nn.ReLU(),\n",
        "            nn.BatchNorm2d(14)\n",
        "        ) # output_size = 10\n",
        "\n",
        "        \n",
        "        self.convblock5 = nn.Sequential(\n",
        "            nn.Conv2d(in_channels=14, out_channels=14, kernel_size=(3, 3), padding=1, bias=False),\n",
        "            nn.ReLU(),\n",
        "            nn.BatchNorm2d(14)\n",
        "        ) \n",
        "        self.convblock6 = nn.Sequential(\n",
        "            nn.Conv2d(in_channels=14, out_channels=10, kernel_size=(3, 3), padding=0, bias=False),\n",
        "            nn.ReLU(),\n",
        "            nn.BatchNorm2d(10)\n",
        "        ) \n",
        "\n",
        "        \n",
        "\n",
        "        self.avg_pool = nn.AvgPool2d(kernel_size=6)\n",
        "\n",
        "        \n",
        "        self.convblock9 = nn.Sequential(\n",
        "            nn.Conv2d(in_channels=10, out_channels=10, kernel_size=(1, 1), padding=0, bias=False),\n",
        "        ) \n",
        "        \n",
        "        self.dropout = nn.Dropout2d(0.12)\n",
        "        \n",
        "    def forward(self, x):\n",
        "        x = self.convblock1(x)\n",
        "        x = self.dropout(x)\n",
        "        x = self.convblock2(x)\n",
        "        x = self.dropout(x)\n",
        "        x = self.pool1(x) # since it's MNIST and 1x28x28 images, 7x7 makes little sense for such small image dataset to get related features, so starting network itself contains maxpool at 5x5 RF\n",
        "        x = self.convblock3(x)\n",
        "        x = self.dropout(x)\n",
        "        x = self.convblock4(x)\n",
        "        x = self.dropout(x)\n",
        "        x = self.convblock5(x)\n",
        "        x = self.dropout(x)\n",
        "        x = self.convblock6(x)\n",
        "        x = self.dropout(x)\n",
        "        x = self.avg_pool(x)\n",
        "        x = self.convblock9(x)\n",
        "        x = x.view(-1, 10)\n",
        "        return f.log_softmax(x, dim=-1)"
      ],
      "execution_count": 20,
      "outputs": []
    },
    {
      "cell_type": "code",
      "metadata": {
        "colab_type": "code",
        "id": "EWe3ztCsD6uY",
        "colab": {
          "base_uri": "https://localhost:8080/",
          "height": 697
        },
        "outputId": "011be832-bff5-471b-de89-5abffa873701"
      },
      "source": [
        "use_cuda = torch.cuda.is_available()\n",
        "device = torch.device(\"cuda\" if use_cuda else \"cpu\")\n",
        "\n",
        "model2 = Net2().to(device)\n",
        "\n",
        "summary(model2, input_size=(1, 28, 28))"
      ],
      "execution_count": 21,
      "outputs": [
        {
          "output_type": "stream",
          "text": [
            "----------------------------------------------------------------\n",
            "        Layer (type)               Output Shape         Param #\n",
            "================================================================\n",
            "            Conv2d-1           [-1, 10, 26, 26]              90\n",
            "              ReLU-2           [-1, 10, 26, 26]               0\n",
            "       BatchNorm2d-3           [-1, 10, 26, 26]              20\n",
            "         Dropout2d-4           [-1, 10, 26, 26]               0\n",
            "            Conv2d-5           [-1, 12, 24, 24]           1,080\n",
            "              ReLU-6           [-1, 12, 24, 24]               0\n",
            "       BatchNorm2d-7           [-1, 12, 24, 24]              24\n",
            "         Dropout2d-8           [-1, 12, 24, 24]               0\n",
            "         MaxPool2d-9           [-1, 12, 12, 12]               0\n",
            "           Conv2d-10           [-1, 14, 10, 10]           1,512\n",
            "             ReLU-11           [-1, 14, 10, 10]               0\n",
            "      BatchNorm2d-12           [-1, 14, 10, 10]              28\n",
            "        Dropout2d-13           [-1, 14, 10, 10]               0\n",
            "           Conv2d-14             [-1, 14, 8, 8]           1,764\n",
            "             ReLU-15             [-1, 14, 8, 8]               0\n",
            "      BatchNorm2d-16             [-1, 14, 8, 8]              28\n",
            "        Dropout2d-17             [-1, 14, 8, 8]               0\n",
            "           Conv2d-18             [-1, 14, 8, 8]           1,764\n",
            "             ReLU-19             [-1, 14, 8, 8]               0\n",
            "      BatchNorm2d-20             [-1, 14, 8, 8]              28\n",
            "        Dropout2d-21             [-1, 14, 8, 8]               0\n",
            "           Conv2d-22             [-1, 10, 6, 6]           1,260\n",
            "             ReLU-23             [-1, 10, 6, 6]               0\n",
            "      BatchNorm2d-24             [-1, 10, 6, 6]              20\n",
            "        Dropout2d-25             [-1, 10, 6, 6]               0\n",
            "        AvgPool2d-26             [-1, 10, 1, 1]               0\n",
            "           Conv2d-27             [-1, 10, 1, 1]             100\n",
            "================================================================\n",
            "Total params: 7,718\n",
            "Trainable params: 7,718\n",
            "Non-trainable params: 0\n",
            "----------------------------------------------------------------\n",
            "Input size (MB): 0.00\n",
            "Forward/backward pass size (MB): 0.54\n",
            "Params size (MB): 0.03\n",
            "Estimated Total Size (MB): 0.57\n",
            "----------------------------------------------------------------\n"
          ],
          "name": "stdout"
        }
      ]
    },
    {
      "cell_type": "code",
      "metadata": {
        "colab_type": "code",
        "id": "b7cEp2DMD6ua",
        "colab": {
          "base_uri": "https://localhost:8080/",
          "height": 1000
        },
        "outputId": "c100a3f4-d470-4c93-af0d-a7c81f6f6df3"
      },
      "source": [
        "optimizer = optim.SGD(model2.parameters(), lr=0.07,momentum=0.9)\n",
        "\n",
        "scheduler = StepLR(optimizer=optimizer, step_size=3, gamma=0.379)\n",
        "\n",
        "train(model2, device, train_loader, optimizer, epochs=15, scheduler=scheduler, test=True, test_loader=test_loader, reset = [train_losses, test_losses, train_accuracy, test_accuracy])"
      ],
      "execution_count": 22,
      "outputs": [
        {
          "output_type": "stream",
          "text": [
            "\r  0%|          | 0/938 [00:00<?, ?it/s]"
          ],
          "name": "stderr"
        },
        {
          "output_type": "stream",
          "text": [
            "\n",
            "\n",
            "epoch: 1\n"
          ],
          "name": "stdout"
        },
        {
          "output_type": "stream",
          "text": [
            "100%|██████████| 938/938 [00:14<00:00, 66.25it/s]"
          ],
          "name": "stderr"
        },
        {
          "output_type": "stream",
          "text": [
            "\n",
            ">>>lr: 0.07\n",
            "\n",
            "Train set:                              Accuracy: 52209/60000 (87.015000%)\n"
          ],
          "name": "stdout"
        },
        {
          "output_type": "stream",
          "text": [
            "\n",
            "  0%|          | 0/938 [00:00<?, ?it/s]"
          ],
          "name": "stderr"
        },
        {
          "output_type": "stream",
          "text": [
            "\n",
            "Test set: Average loss: 0.0617, Accuracy: 9807/10000 (98.070000%)\n",
            "\n",
            "\n",
            "\n",
            "epoch: 2\n"
          ],
          "name": "stdout"
        },
        {
          "output_type": "stream",
          "text": [
            "100%|██████████| 938/938 [00:13<00:00, 68.28it/s]"
          ],
          "name": "stderr"
        },
        {
          "output_type": "stream",
          "text": [
            "\n",
            ">>>lr: 0.07\n",
            "\n",
            "Train set:                              Accuracy: 58651/60000 (97.751667%)\n"
          ],
          "name": "stdout"
        },
        {
          "output_type": "stream",
          "text": [
            "\n",
            "  0%|          | 0/938 [00:00<?, ?it/s]"
          ],
          "name": "stderr"
        },
        {
          "output_type": "stream",
          "text": [
            "\n",
            "Test set: Average loss: 0.0380, Accuracy: 9868/10000 (98.680000%)\n",
            "\n",
            "\n",
            "\n",
            "epoch: 3\n"
          ],
          "name": "stdout"
        },
        {
          "output_type": "stream",
          "text": [
            "100%|██████████| 938/938 [00:13<00:00, 69.38it/s]"
          ],
          "name": "stderr"
        },
        {
          "output_type": "stream",
          "text": [
            "\n",
            ">>>lr: 0.07\n",
            "\n",
            "Train set:                              Accuracy: 59004/60000 (98.340000%)\n"
          ],
          "name": "stdout"
        },
        {
          "output_type": "stream",
          "text": [
            "\n",
            "  0%|          | 0/938 [00:00<?, ?it/s]"
          ],
          "name": "stderr"
        },
        {
          "output_type": "stream",
          "text": [
            "\n",
            "Test set: Average loss: 0.0503, Accuracy: 9860/10000 (98.600000%)\n",
            "\n",
            "\n",
            "\n",
            "epoch: 4\n"
          ],
          "name": "stdout"
        },
        {
          "output_type": "stream",
          "text": [
            "100%|██████████| 938/938 [00:13<00:00, 70.57it/s]"
          ],
          "name": "stderr"
        },
        {
          "output_type": "stream",
          "text": [
            "\n",
            ">>>lr: 0.02653\n",
            "\n",
            "Train set:                              Accuracy: 59331/60000 (98.885000%)\n"
          ],
          "name": "stdout"
        },
        {
          "output_type": "stream",
          "text": [
            "\n",
            "  0%|          | 0/938 [00:00<?, ?it/s]"
          ],
          "name": "stderr"
        },
        {
          "output_type": "stream",
          "text": [
            "\n",
            "Test set: Average loss: 0.0257, Accuracy: 9915/10000 (99.150000%)\n",
            "\n",
            "\n",
            "\n",
            "epoch: 5\n"
          ],
          "name": "stdout"
        },
        {
          "output_type": "stream",
          "text": [
            "100%|██████████| 938/938 [00:13<00:00, 70.22it/s]"
          ],
          "name": "stderr"
        },
        {
          "output_type": "stream",
          "text": [
            "\n",
            ">>>lr: 0.02653\n",
            "\n",
            "Train set:                              Accuracy: 59423/60000 (99.038333%)\n"
          ],
          "name": "stdout"
        },
        {
          "output_type": "stream",
          "text": [
            "\n",
            "  0%|          | 0/938 [00:00<?, ?it/s]"
          ],
          "name": "stderr"
        },
        {
          "output_type": "stream",
          "text": [
            "\n",
            "Test set: Average loss: 0.0230, Accuracy: 9923/10000 (99.230000%)\n",
            "\n",
            "\n",
            "\n",
            "epoch: 6\n"
          ],
          "name": "stdout"
        },
        {
          "output_type": "stream",
          "text": [
            "100%|██████████| 938/938 [00:13<00:00, 70.76it/s]"
          ],
          "name": "stderr"
        },
        {
          "output_type": "stream",
          "text": [
            "\n",
            ">>>lr: 0.02653\n",
            "\n",
            "Train set:                              Accuracy: 59457/60000 (99.095000%)\n"
          ],
          "name": "stdout"
        },
        {
          "output_type": "stream",
          "text": [
            "\n",
            "  0%|          | 0/938 [00:00<?, ?it/s]"
          ],
          "name": "stderr"
        },
        {
          "output_type": "stream",
          "text": [
            "\n",
            "Test set: Average loss: 0.0265, Accuracy: 9913/10000 (99.130000%)\n",
            "\n",
            "\n",
            "\n",
            "epoch: 7\n"
          ],
          "name": "stdout"
        },
        {
          "output_type": "stream",
          "text": [
            "100%|██████████| 938/938 [00:13<00:00, 69.42it/s]"
          ],
          "name": "stderr"
        },
        {
          "output_type": "stream",
          "text": [
            "\n",
            ">>>lr: 0.01005487\n",
            "\n",
            "Train set:                              Accuracy: 59550/60000 (99.250000%)\n"
          ],
          "name": "stdout"
        },
        {
          "output_type": "stream",
          "text": [
            "\n",
            "  0%|          | 0/938 [00:00<?, ?it/s]"
          ],
          "name": "stderr"
        },
        {
          "output_type": "stream",
          "text": [
            "\n",
            "Test set: Average loss: 0.0210, Accuracy: 9934/10000 (99.340000%)\n",
            "\n",
            "\n",
            "\n",
            "epoch: 8\n"
          ],
          "name": "stdout"
        },
        {
          "output_type": "stream",
          "text": [
            "100%|██████████| 938/938 [00:13<00:00, 71.90it/s]"
          ],
          "name": "stderr"
        },
        {
          "output_type": "stream",
          "text": [
            "\n",
            ">>>lr: 0.01005487\n",
            "\n",
            "Train set:                              Accuracy: 59569/60000 (99.281667%)\n"
          ],
          "name": "stdout"
        },
        {
          "output_type": "stream",
          "text": [
            "\n",
            "  0%|          | 0/938 [00:00<?, ?it/s]"
          ],
          "name": "stderr"
        },
        {
          "output_type": "stream",
          "text": [
            "\n",
            "Test set: Average loss: 0.0183, Accuracy: 9943/10000 (99.430000%)\n",
            "\n",
            "\n",
            "\n",
            "epoch: 9\n"
          ],
          "name": "stdout"
        },
        {
          "output_type": "stream",
          "text": [
            "100%|██████████| 938/938 [00:13<00:00, 67.84it/s]"
          ],
          "name": "stderr"
        },
        {
          "output_type": "stream",
          "text": [
            "\n",
            ">>>lr: 0.01005487\n",
            "\n",
            "Train set:                              Accuracy: 59575/60000 (99.291667%)\n"
          ],
          "name": "stdout"
        },
        {
          "output_type": "stream",
          "text": [
            "\n",
            "  0%|          | 0/938 [00:00<?, ?it/s]"
          ],
          "name": "stderr"
        },
        {
          "output_type": "stream",
          "text": [
            "\n",
            "Test set: Average loss: 0.0196, Accuracy: 9938/10000 (99.380000%)\n",
            "\n",
            "\n",
            "\n",
            "epoch: 10\n"
          ],
          "name": "stdout"
        },
        {
          "output_type": "stream",
          "text": [
            "100%|██████████| 938/938 [00:13<00:00, 68.12it/s]"
          ],
          "name": "stderr"
        },
        {
          "output_type": "stream",
          "text": [
            "\n",
            ">>>lr: 0.00381079573\n",
            "\n",
            "Train set:                              Accuracy: 59628/60000 (99.380000%)\n"
          ],
          "name": "stdout"
        },
        {
          "output_type": "stream",
          "text": [
            "\n",
            "  0%|          | 0/938 [00:00<?, ?it/s]"
          ],
          "name": "stderr"
        },
        {
          "output_type": "stream",
          "text": [
            "\n",
            "Test set: Average loss: 0.0180, Accuracy: 9939/10000 (99.390000%)\n",
            "\n",
            "\n",
            "\n",
            "epoch: 11\n"
          ],
          "name": "stdout"
        },
        {
          "output_type": "stream",
          "text": [
            "100%|██████████| 938/938 [00:13<00:00, 68.16it/s]"
          ],
          "name": "stderr"
        },
        {
          "output_type": "stream",
          "text": [
            "\n",
            ">>>lr: 0.00381079573\n",
            "\n",
            "Train set:                              Accuracy: 59652/60000 (99.420000%)\n"
          ],
          "name": "stdout"
        },
        {
          "output_type": "stream",
          "text": [
            "\n",
            "  0%|          | 0/938 [00:00<?, ?it/s]"
          ],
          "name": "stderr"
        },
        {
          "output_type": "stream",
          "text": [
            "\n",
            "Test set: Average loss: 0.0186, Accuracy: 9939/10000 (99.390000%)\n",
            "\n",
            "\n",
            "\n",
            "epoch: 12\n"
          ],
          "name": "stdout"
        },
        {
          "output_type": "stream",
          "text": [
            "100%|██████████| 938/938 [00:13<00:00, 68.85it/s]"
          ],
          "name": "stderr"
        },
        {
          "output_type": "stream",
          "text": [
            "\n",
            ">>>lr: 0.00381079573\n",
            "\n",
            "Train set:                              Accuracy: 59653/60000 (99.421667%)\n"
          ],
          "name": "stdout"
        },
        {
          "output_type": "stream",
          "text": [
            "\n",
            "  0%|          | 0/938 [00:00<?, ?it/s]"
          ],
          "name": "stderr"
        },
        {
          "output_type": "stream",
          "text": [
            "\n",
            "Test set: Average loss: 0.0184, Accuracy: 9943/10000 (99.430000%)\n",
            "\n",
            "\n",
            "\n",
            "epoch: 13\n"
          ],
          "name": "stdout"
        },
        {
          "output_type": "stream",
          "text": [
            "100%|██████████| 938/938 [00:13<00:00, 70.81it/s]"
          ],
          "name": "stderr"
        },
        {
          "output_type": "stream",
          "text": [
            "\n",
            ">>>lr: 0.00144429158167\n",
            "\n",
            "Train set:                              Accuracy: 59651/60000 (99.418333%)\n"
          ],
          "name": "stdout"
        },
        {
          "output_type": "stream",
          "text": [
            "\n",
            "  0%|          | 0/938 [00:00<?, ?it/s]"
          ],
          "name": "stderr"
        },
        {
          "output_type": "stream",
          "text": [
            "\n",
            "Test set: Average loss: 0.0182, Accuracy: 9942/10000 (99.420000%)\n",
            "\n",
            "\n",
            "\n",
            "epoch: 14\n"
          ],
          "name": "stdout"
        },
        {
          "output_type": "stream",
          "text": [
            "100%|██████████| 938/938 [00:13<00:00, 71.67it/s]"
          ],
          "name": "stderr"
        },
        {
          "output_type": "stream",
          "text": [
            "\n",
            ">>>lr: 0.00144429158167\n",
            "\n",
            "Train set:                              Accuracy: 59671/60000 (99.451667%)\n"
          ],
          "name": "stdout"
        },
        {
          "output_type": "stream",
          "text": [
            "\n",
            "  0%|          | 0/938 [00:00<?, ?it/s]"
          ],
          "name": "stderr"
        },
        {
          "output_type": "stream",
          "text": [
            "\n",
            "Test set: Average loss: 0.0181, Accuracy: 9943/10000 (99.430000%)\n",
            "\n",
            "\n",
            "\n",
            "epoch: 15\n"
          ],
          "name": "stdout"
        },
        {
          "output_type": "stream",
          "text": [
            "100%|██████████| 938/938 [00:13<00:00, 70.82it/s]"
          ],
          "name": "stderr"
        },
        {
          "output_type": "stream",
          "text": [
            "\n",
            ">>>lr: 0.00144429158167\n",
            "\n",
            "Train set:                              Accuracy: 59652/60000 (99.420000%)\n"
          ],
          "name": "stdout"
        },
        {
          "output_type": "stream",
          "text": [
            "\n"
          ],
          "name": "stderr"
        },
        {
          "output_type": "stream",
          "text": [
            "\n",
            "Test set: Average loss: 0.0179, Accuracy: 9942/10000 (99.420000%)\n",
            "\n"
          ],
          "name": "stdout"
        }
      ]
    },
    {
      "cell_type": "code",
      "metadata": {
        "colab_type": "code",
        "id": "ctyFaAsyD6ub",
        "colab": {
          "base_uri": "https://localhost:8080/",
          "height": 624
        },
        "outputId": "06e7e19b-f1dd-4353-a4dc-5b8ff337600f"
      },
      "source": [
        "fig, axs = plt.subplots(2,2,figsize=(15,10))\n",
        "axs[0, 0].plot(train_losses)\n",
        "axs[0, 0].set_title(\"Training Loss\")\n",
        "axs[1, 0].plot(train_accuracy)\n",
        "axs[1, 0].set_title(\"Training Accuracy\")\n",
        "axs[0, 1].plot(test_losses)\n",
        "axs[0, 1].set_title(\"Test Loss\")\n",
        "axs[1, 1].plot(test_accuracy)\n",
        "axs[1, 1].set_title(\"Test Accuracy\")"
      ],
      "execution_count": 23,
      "outputs": [
        {
          "output_type": "execute_result",
          "data": {
            "text/plain": [
              "Text(0.5, 1.0, 'Test Accuracy')"
            ]
          },
          "metadata": {
            "tags": []
          },
          "execution_count": 23
        },
        {
          "output_type": "display_data",
          "data": {
            "image/png": "[encoded data removed]",
            "text/plain": [
              "<Figure size 1080x720 with 4 Axes>"
            ]
          },
          "metadata": {
            "tags": [],
            "needs_background": "light"
          }
        }
      ]
    },
    {
      "cell_type": "markdown",
      "metadata": {
        "colab_type": "text",
        "id": "kUK-N-lID6uc"
      },
      "source": [
        "# Analysis\n",
        "\n",
        "#### After adding Image Augmentation (RandomRotation from -9 to 9) and Step Learning Rate scheduler (optim.SGD(model2.parameters(), lr=0.07,momentum=0.9) & StepLR(optimizer=optimizer, step_size=3, gamma=0.379)), was able to achieve >=99.4% accuracy consistently in epochs 12, 13, 14 and 15 while training accuracy also being more than 99.4%.\n",
        "\n",
        "#### One thing to note is that training accuracy still has scope for improvement\n",
        "\n",
        "#### That means the model could be trained with better hyper parameters within 15 epochs\n",
        "\n",
        "#### Total parameters used here are: 7,718\n",
        "\n",
        "#### Try to further reduce parameters while maintaining or increasing accuracies !!\n"
      ]
    },
    {
      "cell_type": "code",
      "metadata": {
        "id": "JI0sXJeYH16I",
        "colab_type": "code",
        "colab": {}
      },
      "source": [
        ""
      ],
      "execution_count": null,
      "outputs": []
    }
  ]
}