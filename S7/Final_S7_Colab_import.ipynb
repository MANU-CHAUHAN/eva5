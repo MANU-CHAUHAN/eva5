{
  "nbformat": 4,
  "nbformat_minor": 0,
  "metadata": {
    "colab": {
      "name": "Final S7_Colab import.ipynb",
      "provenance": [],
      "collapsed_sections": []
    },
    "kernelspec": {
      "name": "python3",
      "display_name": "Python 3"
    },
    "accelerator": "GPU"
  },
  "cells": [
    {
      "cell_type": "code",
      "metadata": {
        "id": "ejjG86BCyDTi",
        "colab_type": "code",
        "colab": {}
      },
      "source": [
        ""
      ],
      "execution_count": null,
      "outputs": []
    },
    {
      "cell_type": "markdown",
      "metadata": {
        "id": "i_JrwnWT2iTi",
        "colab_type": "text"
      },
      "source": [
        "# Final S7\n",
        "\n",
        "[Link to Colab file with Logs: Final 5th epoch target reached, lr = 0.007 (tr/te=90.17% / 86.32%) total 15 epochs](https://colab.research.google.com/drive/1ZtYEW30BrNua30dpGtaaBWjRcaLkzGsQ?usp=sharing)"
      ]
    },
    {
      "cell_type": "code",
      "metadata": {
        "id": "dQwgdVnw2hWE",
        "colab_type": "code",
        "colab": {
          "base_uri": "https://localhost:8080/",
          "height": 34
        },
        "outputId": "f3647bf4-99af-4b02-b15f-dcca82dc4ec9"
      },
      "source": [
        "# mount gdrive\n",
        "from google.colab import drive\n",
        "drive.mount('/content/gdrive',force_remount=True)"
      ],
      "execution_count": 1,
      "outputs": [
        {
          "output_type": "stream",
          "text": [
            "Mounted at /content/gdrive\n"
          ],
          "name": "stdout"
        }
      ]
    },
    {
      "cell_type": "code",
      "metadata": {
        "id": "IFz0dB1B2pIm",
        "colab_type": "code",
        "colab": {}
      },
      "source": [
        "import sys\n",
        "folder = '/content/gdrive/My Drive/S7'\n",
        "sys.path.append(folder)\n",
        "# sys.path"
      ],
      "execution_count": 2,
      "outputs": []
    },
    {
      "cell_type": "code",
      "metadata": {
        "id": "xJSAJMTg25_r",
        "colab_type": "code",
        "colab": {
          "base_uri": "https://localhost:8080/",
          "height": 37
        },
        "outputId": "e0848799-8e87-472d-c0c1-cff2c293eea9"
      },
      "source": [
        "import os\n",
        "os.getcwd()"
      ],
      "execution_count": 3,
      "outputs": [
        {
          "output_type": "execute_result",
          "data": {
            "application/vnd.google.colaboratory.intrinsic+json": {
              "type": "string"
            },
            "text/plain": [
              "'/content'"
            ]
          },
          "metadata": {
            "tags": []
          },
          "execution_count": 3
        }
      ]
    },
    {
      "cell_type": "code",
      "metadata": {
        "id": "6pYHZMzq26xj",
        "colab_type": "code",
        "colab": {
          "base_uri": "https://localhost:8080/",
          "height": 34
        },
        "outputId": "3676b664-b701-4450-a0a5-e1acb541e30b"
      },
      "source": [
        "%cd '/content/gdrive/My Drive/S7'"
      ],
      "execution_count": 4,
      "outputs": [
        {
          "output_type": "stream",
          "text": [
            "/content/gdrive/My Drive/S7\n"
          ],
          "name": "stdout"
        }
      ]
    },
    {
      "cell_type": "code",
      "metadata": {
        "id": "-9WcU4DOUDRT",
        "colab_type": "code",
        "colab": {
          "base_uri": "https://localhost:8080/",
          "height": 187
        },
        "outputId": "e23ccd00-f12f-4015-dfff-a8d50d08f624"
      },
      "source": [
        "os.listdir()"
      ],
      "execution_count": 5,
      "outputs": [
        {
          "output_type": "execute_result",
          "data": {
            "text/plain": [
              "['train_test_dataloader.py',\n",
              " 'CONSTANTS.py',\n",
              " 'README.md',\n",
              " 'requirements.txt',\n",
              " 'config.cfg',\n",
              " 'utility.py',\n",
              " 'models',\n",
              " '__pycache__',\n",
              " 'train_test.py',\n",
              " 'main.py']"
            ]
          },
          "metadata": {
            "tags": []
          },
          "execution_count": 5
        }
      ]
    },
    {
      "cell_type": "code",
      "metadata": {
        "id": "fcbmS6M8SGJc",
        "colab_type": "code",
        "colab": {
          "base_uri": "https://localhost:8080/",
          "height": 85
        },
        "outputId": "71e71fe4-049f-4d29-a3e9-8f9ee81ce4f1"
      },
      "source": [
        "!nvcc --version"
      ],
      "execution_count": 6,
      "outputs": [
        {
          "output_type": "stream",
          "text": [
            "nvcc: NVIDIA (R) Cuda compiler driver\n",
            "Copyright (c) 2005-2019 NVIDIA Corporation\n",
            "Built on Sun_Jul_28_19:07:16_PDT_2019\n",
            "Cuda compilation tools, release 10.1, V10.1.243\n"
          ],
          "name": "stdout"
        }
      ]
    },
    {
      "cell_type": "code",
      "metadata": {
        "id": "oi1yDgZ9SLh8",
        "colab_type": "code",
        "colab": {
          "base_uri": "https://localhost:8080/",
          "height": 357
        },
        "outputId": "662b67d4-5b9f-48ca-d3c3-f053f791b712"
      },
      "source": [
        "!nvidia-smi"
      ],
      "execution_count": 7,
      "outputs": [
        {
          "output_type": "stream",
          "text": [
            "Sat Sep 19 19:33:36 2020       \n",
            "+-----------------------------------------------------------------------------+\n",
            "| NVIDIA-SMI 450.66       Driver Version: 418.67       CUDA Version: 10.1     |\n",
            "|-------------------------------+----------------------+----------------------+\n",
            "| GPU  Name        Persistence-M| Bus-Id        Disp.A | Volatile Uncorr. ECC |\n",
            "| Fan  Temp  Perf  Pwr:Usage/Cap|         Memory-Usage | GPU-Util  Compute M. |\n",
            "|                               |                      |               MIG M. |\n",
            "|===============================+======================+======================|\n",
            "|   0  Tesla T4            Off  | 00000000:00:04.0 Off |                    0 |\n",
            "| N/A   73C    P0    34W /  70W |      0MiB / 15079MiB |      0%      Default |\n",
            "|                               |                      |                 ERR! |\n",
            "+-------------------------------+----------------------+----------------------+\n",
            "                                                                               \n",
            "+-----------------------------------------------------------------------------+\n",
            "| Processes:                                                                  |\n",
            "|  GPU   GI   CI        PID   Type   Process name                  GPU Memory |\n",
            "|        ID   ID                                                   Usage      |\n",
            "|=============================================================================|\n",
            "|  No running processes found                                                 |\n",
            "+-----------------------------------------------------------------------------+\n"
          ],
          "name": "stdout"
        }
      ]
    },
    {
      "cell_type": "markdown",
      "metadata": {
        "id": "5St3PGFp3Btx",
        "colab_type": "text"
      },
      "source": [
        "## Utilized configuration file for specifying the values and can be changed by user without modifying the code"
      ]
    },
    {
      "cell_type": "code",
      "metadata": {
        "id": "edFuoXqe2-Gj",
        "colab_type": "code",
        "colab": {
          "base_uri": "https://localhost:8080/",
          "height": 207
        },
        "outputId": "ea7fd076-acb2-49e2-a556-fa90a948df73"
      },
      "source": [
        "!pip install -r requirements.txt"
      ],
      "execution_count": 8,
      "outputs": [
        {
          "output_type": "stream",
          "text": [
            "Requirement already satisfied: torchtoolbox in /usr/local/lib/python3.6/dist-packages (from -r requirements.txt (line 1)) (0.1.5)\n",
            "Requirement already satisfied: scipy in /usr/local/lib/python3.6/dist-packages (from torchtoolbox->-r requirements.txt (line 1)) (1.4.1)\n",
            "Requirement already satisfied: scikit-learn in /usr/local/lib/python3.6/dist-packages (from torchtoolbox->-r requirements.txt (line 1)) (0.22.2.post1)\n",
            "Requirement already satisfied: pyarrow in /usr/local/lib/python3.6/dist-packages (from torchtoolbox->-r requirements.txt (line 1)) (0.14.1)\n",
            "Requirement already satisfied: six in /usr/local/lib/python3.6/dist-packages (from torchtoolbox->-r requirements.txt (line 1)) (1.15.0)\n",
            "Requirement already satisfied: opencv-python in /usr/local/lib/python3.6/dist-packages (from torchtoolbox->-r requirements.txt (line 1)) (4.1.2.30)\n",
            "Requirement already satisfied: lmdb in /usr/local/lib/python3.6/dist-packages (from torchtoolbox->-r requirements.txt (line 1)) (0.99)\n",
            "Requirement already satisfied: tqdm in /usr/local/lib/python3.6/dist-packages (from torchtoolbox->-r requirements.txt (line 1)) (4.41.1)\n",
            "Requirement already satisfied: numpy in /usr/local/lib/python3.6/dist-packages (from torchtoolbox->-r requirements.txt (line 1)) (1.18.5)\n",
            "Requirement already satisfied: joblib>=0.11 in /usr/local/lib/python3.6/dist-packages (from scikit-learn->torchtoolbox->-r requirements.txt (line 1)) (0.16.0)\n"
          ],
          "name": "stdout"
        }
      ]
    },
    {
      "cell_type": "code",
      "metadata": {
        "id": "PIoaDSyxDqSJ",
        "colab_type": "code",
        "colab": {
          "base_uri": "https://localhost:8080/",
          "height": 51
        },
        "outputId": "f7d5f75e-190c-4cf6-8c54-6c8f4b38dec2"
      },
      "source": [
        "from main import run_model_run\n",
        "import utility"
      ],
      "execution_count": 9,
      "outputs": [
        {
          "output_type": "stream",
          "text": [
            "\n",
            " CUDA is available\n"
          ],
          "name": "stdout"
        }
      ]
    },
    {
      "cell_type": "code",
      "metadata": {
        "id": "QiC6PBc5JVpj",
        "colab_type": "code",
        "colab": {
          "base_uri": "https://localhost:8080/",
          "height": 68
        },
        "outputId": "34d7e315-7b4c-4e22-e7ca-68c1d67b63d4"
      },
      "source": [
        "print(utility.check_gpu_availability())"
      ],
      "execution_count": 10,
      "outputs": [
        {
          "output_type": "stream",
          "text": [
            "\n",
            " CUDA is available\n",
            "True\n"
          ],
          "name": "stdout"
        }
      ]
    },
    {
      "cell_type": "code",
      "metadata": {
        "id": "FG28md0mEokU",
        "colab_type": "code",
        "colab": {
          "base_uri": "https://localhost:8080/",
          "height": 1000
        },
        "outputId": "0168fa46-06f9-40ef-9f6d-210836c350d7"
      },
      "source": [
        "run_model_run(session=\"s7\")"
      ],
      "execution_count": 11,
      "outputs": [
        {
          "output_type": "stream",
          "text": [
            "Files already downloaded and verified\n",
            "Files already downloaded and verified\n",
            "\n",
            " CUDA is available\n",
            "\n",
            " CUDA is available\n",
            "\n",
            "Running for:  L2+BN\n",
            "\n",
            "        Info: The model for CIFAR10 data set session 7.\n",
            "        Target: To achieve more than 80% test accuracy with less than 1 million parameters, mandatory to use depth wise separable convolution, Global Average Pooling.\n",
            "        \n",
            "----------------------------------------------------------------\n",
            "        Layer (type)               Output Shape         Param #\n",
            "================================================================\n",
            "            Conv2d-1           [-1, 16, 32, 32]             432\n",
            "       BatchNorm2d-2           [-1, 16, 32, 32]              32\n",
            "              ReLU-3           [-1, 16, 32, 32]               0\n",
            "            Conv2d-4           [-1, 32, 32, 32]           1,152\n",
            "       BatchNorm2d-5           [-1, 32, 32, 32]              64\n",
            "            Conv2d-6           [-1, 64, 32, 32]           2,304\n",
            "       BatchNorm2d-7           [-1, 64, 32, 32]             128\n",
            "              ReLU-8           [-1, 64, 32, 32]               0\n",
            "            Conv2d-9          [-1, 128, 32, 32]           4,608\n",
            "      BatchNorm2d-10          [-1, 128, 32, 32]             256\n",
            "        MaxPool2d-11          [-1, 128, 16, 16]               0\n",
            "           Conv2d-12          [-1, 256, 14, 14]         294,912\n",
            "           Conv2d-13          [-1, 256, 14, 14]          18,432\n",
            "      BatchNorm2d-14          [-1, 256, 14, 14]             512\n",
            "             ReLU-15          [-1, 256, 14, 14]               0\n",
            "           Conv2d-16          [-1, 256, 14, 14]           2,304\n",
            "           Conv2d-17          [-1, 512, 14, 14]         131,072\n",
            "      BatchNorm2d-18          [-1, 512, 14, 14]           1,024\n",
            "           Conv2d-19            [-1, 256, 7, 7]         131,072\n",
            "      BatchNorm2d-20            [-1, 256, 7, 7]             512\n",
            "             ReLU-21            [-1, 256, 7, 7]               0\n",
            "           Conv2d-22            [-1, 256, 7, 7]           2,304\n",
            "           Conv2d-23            [-1, 256, 7, 7]          65,536\n",
            "             ReLU-24            [-1, 256, 7, 7]               0\n",
            "      BatchNorm2d-25            [-1, 256, 7, 7]             512\n",
            "           Conv2d-26             [-1, 64, 7, 7]          16,384\n",
            "             ReLU-27             [-1, 64, 7, 7]               0\n",
            "      BatchNorm2d-28             [-1, 64, 7, 7]             128\n",
            "           Conv2d-29             [-1, 10, 7, 7]             640\n",
            "             ReLU-30             [-1, 10, 7, 7]               0\n",
            "      BatchNorm2d-31             [-1, 10, 7, 7]              20\n",
            "AdaptiveAvgPool2d-32             [-1, 10, 1, 1]               0\n",
            "================================================================\n",
            "Total params: 674,340\n",
            "Trainable params: 674,340\n",
            "Non-trainable params: 0\n",
            "----------------------------------------------------------------\n",
            "Input size (MB): 0.01\n",
            "Forward/backward pass size (MB): 8.82\n",
            "Params size (MB): 2.57\n",
            "Estimated Total Size (MB): 11.41\n",
            "----------------------------------------------------------------\n",
            "None\n",
            "\n",
            "\n",
            "epoch: 1\n",
            "\n",
            ">>>lr: 0.0072\n",
            "\n",
            "Epoch : 1 Train loss:0.0111\n",
            "\n",
            "Train set: \t\t Accuracy: 25828/50000 (51.656000%)\n",
            "\n",
            "Test set: Average loss: 0.0096, Accuracy: 5800/10000 (58.000000%)\n",
            "\n",
            "\n",
            "\n",
            "epoch: 2\n",
            "\n",
            ">>>lr: 0.0072\n",
            "\n",
            "Epoch : 2 Train loss:0.0079\n",
            "\n",
            "Train set: \t\t Accuracy: 33329/50000 (66.658000%)\n",
            "\n",
            "Test set: Average loss: 0.0072, Accuracy: 6926/10000 (69.260000%)\n",
            "\n",
            "\n",
            "\n",
            "epoch: 3\n",
            "\n",
            ">>>lr: 0.004168799999999999\n",
            "\n",
            "Epoch : 3 Train loss:0.0064\n",
            "\n",
            "Train set: \t\t Accuracy: 36533/50000 (73.066000%)\n",
            "\n",
            "Test set: Average loss: 0.0061, Accuracy: 7361/10000 (73.610000%)\n",
            "\n",
            "\n",
            "\n",
            "epoch: 4\n",
            "\n",
            ">>>lr: 0.004168799999999999\n",
            "\n",
            "Epoch : 4 Train loss:0.0057\n",
            "\n",
            "Train set: \t\t Accuracy: 37914/50000 (75.828000%)\n",
            "\n",
            "Test set: Average loss: 0.0056, Accuracy: 7612/10000 (76.120000%)\n",
            "\n",
            "\n",
            "\n",
            "epoch: 5\n",
            "\n",
            ">>>lr: 0.0024137351999999994\n",
            "\n",
            "Epoch : 5 Train loss:0.0051\n",
            "\n",
            "Train set: \t\t Accuracy: 39254/50000 (78.508000%)\n",
            "\n",
            "Test set: Average loss: 0.0052, Accuracy: 7821/10000 (78.210000%)\n",
            "\n",
            "\n",
            "\n",
            "epoch: 6\n",
            "\n",
            ">>>lr: 0.0024137351999999994\n",
            "\n",
            "Epoch : 6 Train loss:0.0049\n",
            "\n",
            "Train set: \t\t Accuracy: 39867/50000 (79.734000%)\n",
            "\n",
            "Test set: Average loss: 0.0047, Accuracy: 8033/10000 (80.330000%)\n",
            "\n",
            "\n",
            "\n",
            "epoch: 7\n",
            "\n",
            ">>>lr: 0.0013975526807999995\n",
            "\n",
            "Epoch : 7 Train loss:0.0045\n",
            "\n",
            "Train set: \t\t Accuracy: 40712/50000 (81.424000%)\n",
            "\n",
            "Test set: Average loss: 0.0046, Accuracy: 8031/10000 (80.310000%)\n",
            "\n",
            "\n",
            "\n",
            "epoch: 8\n",
            "\n",
            ">>>lr: 0.0013975526807999995\n",
            "\n",
            "Epoch : 8 Train loss:0.0044\n",
            "\n",
            "Train set: \t\t Accuracy: 40990/50000 (81.980000%)\n",
            "\n",
            "Test set: Average loss: 0.0045, Accuracy: 8136/10000 (81.360000%)\n",
            "\n",
            "\n",
            "\n",
            "epoch: 9\n",
            "\n",
            ">>>lr: 0.0008091830021831997\n",
            "\n",
            "Epoch : 9 Train loss:0.0042\n",
            "\n",
            "Train set: \t\t Accuracy: 41439/50000 (82.878000%)\n",
            "\n",
            "Test set: Average loss: 0.0044, Accuracy: 8260/10000 (82.600000%)\n",
            "\n",
            "\n",
            "\n",
            "epoch: 10\n",
            "\n",
            ">>>lr: 0.0008091830021831997\n",
            "\n",
            "Epoch : 10 Train loss:0.0041\n",
            "\n",
            "Train set: \t\t Accuracy: 41601/50000 (83.202000%)\n",
            "\n",
            "Test set: Average loss: 0.0042, Accuracy: 8231/10000 (82.310000%)\n",
            "\n",
            "\n",
            "\n",
            "epoch: 11\n",
            "\n",
            ">>>lr: 0.00046851695826407257\n",
            "\n",
            "Epoch : 11 Train loss:0.0039\n",
            "\n",
            "Train set: \t\t Accuracy: 42025/50000 (84.050000%)\n",
            "\n",
            "Test set: Average loss: 0.0042, Accuracy: 8267/10000 (82.670000%)\n",
            "\n",
            "\n",
            "\n",
            "epoch: 12\n",
            "\n",
            ">>>lr: 0.00046851695826407257\n",
            "\n",
            "Epoch : 12 Train loss:0.0039\n",
            "\n",
            "Train set: \t\t Accuracy: 42103/50000 (84.206000%)\n",
            "\n",
            "Test set: Average loss: 0.0041, Accuracy: 8266/10000 (82.660000%)\n",
            "\n",
            "\n",
            "\n",
            "epoch: 13\n",
            "\n",
            ">>>lr: 0.000271271318834898\n",
            "\n",
            "Epoch : 13 Train loss:0.0038\n",
            "\n",
            "Train set: \t\t Accuracy: 42223/50000 (84.446000%)\n",
            "\n",
            "Test set: Average loss: 0.0040, Accuracy: 8318/10000 (83.180000%)\n",
            "\n",
            "\n",
            "\n",
            "epoch: 14\n",
            "\n",
            ">>>lr: 0.000271271318834898\n",
            "\n",
            "Epoch : 14 Train loss:0.0038\n",
            "\n",
            "Train set: \t\t Accuracy: 42342/50000 (84.684000%)\n",
            "\n",
            "Test set: Average loss: 0.0040, Accuracy: 8342/10000 (83.420000%)\n",
            "\n",
            "\n",
            "\n",
            "epoch: 15\n",
            "\n",
            ">>>lr: 0.00015706609360540593\n",
            "\n",
            "Epoch : 15 Train loss:0.0037\n",
            "\n",
            "Train set: \t\t Accuracy: 42397/50000 (84.794000%)\n",
            "\n",
            "Test set: Average loss: 0.0040, Accuracy: 8362/10000 (83.620000%)\n",
            "\n"
          ],
          "name": "stdout"
        }
      ]
    },
    {
      "cell_type": "code",
      "metadata": {
        "id": "sc38ujMaG0AU",
        "colab_type": "code",
        "colab": {}
      },
      "source": [
        ""
      ],
      "execution_count": 11,
      "outputs": []
    }
  ]
}