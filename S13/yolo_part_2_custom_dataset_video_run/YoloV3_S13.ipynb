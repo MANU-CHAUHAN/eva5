{
  "nbformat": 4,
  "nbformat_minor": 0,
  "metadata": {
    "colab": {
      "name": "YoloV3_S13.ipynb",
      "provenance": [],
      "collapsed_sections": [],
      "machine_shape": "hm"
    },
    "kernelspec": {
      "name": "python3",
      "display_name": "Python 3"
    },
    "accelerator": "GPU"
  },
  "cells": [
    {
      "cell_type": "code",
      "metadata": {
        "id": "fOaYov8I11RB"
      },
      "source": [
        "# !pip install apex"
      ],
      "execution_count": null,
      "outputs": []
    },
    {
      "cell_type": "code",
      "metadata": {
        "id": "Dm2pvUNCzEY9",
        "outputId": "3317b384-2987-42e6-e3a4-7ef44f910da2",
        "colab": {
          "base_uri": "https://localhost:8080/"
        }
      },
      "source": [
        "from google.colab import drive\n",
        "drive.mount('/content/gdrive', force_remount=True)"
      ],
      "execution_count": null,
      "outputs": [
        {
          "output_type": "stream",
          "text": [
            "Mounted at /content/gdrive\n"
          ],
          "name": "stdout"
        }
      ]
    },
    {
      "cell_type": "code",
      "metadata": {
        "id": "iXJmGO8NxxCB",
        "outputId": "12a2f3cf-627f-49fc-9df2-17bfa802558a",
        "colab": {
          "base_uri": "https://localhost:8080/"
        }
      },
      "source": [
        "%cd '/content/gdrive/My Drive/'"
      ],
      "execution_count": null,
      "outputs": [
        {
          "output_type": "stream",
          "text": [
            "/content/gdrive/My Drive\n"
          ],
          "name": "stdout"
        }
      ]
    },
    {
      "cell_type": "code",
      "metadata": {
        "id": "2VP0fW0kXHj1"
      },
      "source": [
        "# !unzip -q YoloV3_Dataset_collected.zip -d data_collected"
      ],
      "execution_count": null,
      "outputs": []
    },
    {
      "cell_type": "code",
      "metadata": {
        "id": "X5prYPc2NOBW"
      },
      "source": [
        "# !unzip -q yolo.zip -d yolo_latest/"
      ],
      "execution_count": null,
      "outputs": []
    },
    {
      "cell_type": "code",
      "metadata": {
        "id": "N5UwUbzCx3GI"
      },
      "source": [
        "# !unzip Archive\\ 2.zip -d input_files"
      ],
      "execution_count": null,
      "outputs": []
    },
    {
      "cell_type": "code",
      "metadata": {
        "id": "scDyZXUPb2u5"
      },
      "source": [
        ""
      ],
      "execution_count": null,
      "outputs": []
    },
    {
      "cell_type": "code",
      "metadata": {
        "id": "JlF8_Nq0N_Tu",
        "outputId": "d5e6bf1d-55f6-4f02-963b-f19bc72a2305",
        "colab": {
          "base_uri": "https://localhost:8080/",
          "height": 35
        }
      },
      "source": [
        "import os\n",
        "os.getcwd()"
      ],
      "execution_count": null,
      "outputs": [
        {
          "output_type": "execute_result",
          "data": {
            "application/vnd.google.colaboratory.intrinsic+json": {
              "type": "string"
            },
            "text/plain": [
              "'/content/gdrive/My Drive'"
            ]
          },
          "metadata": {
            "tags": []
          },
          "execution_count": 6
        }
      ]
    },
    {
      "cell_type": "code",
      "metadata": {
        "id": "dFa1C2XDwcMP"
      },
      "source": [
        "# !git clone https://github.com/theschoolofai/YoloV3.git"
      ],
      "execution_count": null,
      "outputs": []
    },
    {
      "cell_type": "code",
      "metadata": {
        "id": "oJWPCDSv0gw3",
        "outputId": "65638536-d67f-4708-ac35-566c76110bcb",
        "colab": {
          "base_uri": "https://localhost:8080/"
        }
      },
      "source": [
        "import time\n",
        "import glob\n",
        "import torch\n",
        "from time import perf_counter\n",
        "\n",
        "from IPython.display import Image, clear_output \n",
        "print('PyTorch %s %s' % (torch.__version__, torch.cuda.get_device_properties(0) if torch.cuda.is_available() else 'CPU'))"
      ],
      "execution_count": null,
      "outputs": [
        {
          "output_type": "stream",
          "text": [
            "PyTorch 1.6.0+cu101 _CudaDeviceProperties(name='Tesla P100-PCIE-16GB', major=6, minor=0, total_memory=16280MB, multi_processor_count=56)\n"
          ],
          "name": "stdout"
        }
      ]
    },
    {
      "cell_type": "code",
      "metadata": {
        "id": "04WxrIQ51BMn",
        "outputId": "5b92ed6c-1a21-4fec-f065-58b1441027c9",
        "colab": {
          "base_uri": "https://localhost:8080/"
        }
      },
      "source": [
        "cd YoloV3"
      ],
      "execution_count": null,
      "outputs": [
        {
          "output_type": "stream",
          "text": [
            "/content/gdrive/My Drive/YoloV3\n"
          ],
          "name": "stdout"
        }
      ]
    },
    {
      "cell_type": "code",
      "metadata": {
        "id": "R1ItXabLl-Pq"
      },
      "source": [
        "# !unzip -q yolo_data.zip "
      ],
      "execution_count": null,
      "outputs": []
    },
    {
      "cell_type": "code",
      "metadata": {
        "id": "hfM49WXmmT-U"
      },
      "source": [
        "# with open(\"data/customdata/labels/8c7d69b6.txt\", \"w\") as f:\n",
        "#    f.write('2 0.35583941605839414 0.5461956521739131 0.09854014598540145 0.1902173913043478\\n2 0.6040145985401459 0.4891304347826087 0.08394160583941605 0.15217391304347827\\n2 0.05656934306569343 0.5489130434782609 0.04744525547445255 0.06521739130434782\\n0 0.718978102189781 0.22554347826086957 0.3284671532846715 0.28804347826086957\\n0 0.2864963503649635 0.30978260869565216 0.2664233576642336 0.19565217391304346\\n1 0.2846715328467153 0.4701086956521739 0.3868613138686131 0.08152173913043478\\n1 1.0 1.0 0.0 0.0\\n1 0.7390510948905109 0.717391304347826 0.4927007299270073 0.5217391304347826\\n1 0.23905109489051093 0.7418478260869565 0.3978102189781022 0.5380434782608695\\n')\n"
      ],
      "execution_count": null,
      "outputs": []
    },
    {
      "cell_type": "code",
      "metadata": {
        "id": "10LGxoTsneb1"
      },
      "source": [
        "# with open(\"data/customdata/labels/8c7d69b6.txt\", \"r\") as f:\n",
        "#     l = f.readlines()\n",
        "# print(l)\n"
      ],
      "execution_count": null,
      "outputs": []
    },
    {
      "cell_type": "code",
      "metadata": {
        "id": "z_j3dXQk1L3s"
      },
      "source": [
        "# !python train.py --data data/smalcoco/smalcoco.data --batch 3 --cache --epochs 2 --nosave\n"
      ],
      "execution_count": null,
      "outputs": []
    },
    {
      "cell_type": "code",
      "metadata": {
        "id": "F47pkQ_mvqu6",
        "outputId": "714f3ca2-c45c-4119-dbe3-807dbe638204",
        "colab": {
          "base_uri": "https://localhost:8080/",
          "height": 34
        }
      },
      "source": [
        "# from pathlib import Path\n",
        "\n",
        "# for path in Path(os.getcwd()).rglob('Mimg_010.jpg'):\n",
        "#     print(path)"
      ],
      "execution_count": null,
      "outputs": [
        {
          "output_type": "stream",
          "text": [
            "/content/gdrive/My Drive/YoloV3/data/customdata/images/Mimg_010.jpg\n"
          ],
          "name": "stdout"
        }
      ]
    },
    {
      "cell_type": "markdown",
      "metadata": {
        "id": "nAIZD80CUtpp"
      },
      "source": [
        "# Running for 30 epochs on images for size *256*"
      ]
    },
    {
      "cell_type": "code",
      "metadata": {
        "id": "fvi4ivzcycuz",
        "outputId": "6c4b2d5d-2b02-483f-c2e7-59c2692d646f",
        "colab": {
          "base_uri": "https://localhost:8080/",
          "height": 1000
        }
      },
      "source": [
        "start = perf_counter()\n",
        "!python train.py --data data/customdata/custom.data --batch 64 --cache --cfg cfg/yolov3-custom.cfg --epochs 30 --img-size 256\n",
        "end = perf_counter()"
      ],
      "execution_count": null,
      "outputs": [
        {
          "output_type": "stream",
          "text": [
            "Namespace(accumulate=4, adam=False, batch_size=64, bucket='', cache_images=True, cfg='cfg/yolov3-custom.cfg', data='data/customdata/custom.data', device='', epochs=30, evolve=False, img_size=[256], multi_scale=False, name='', nosave=False, notest=False, rect=False, resume=False, single_cls=False, weights='weights/yolov3-spp-ultralytics.pt')\n",
            "Using CUDA device0 _CudaDeviceProperties(name='Tesla V100-SXM2-16GB', total_memory=16130MB)\n",
            "\n",
            "2020-10-28 13:46:10.582555: I tensorflow/stream_executor/platform/default/dso_loader.cc:48] Successfully opened dynamic library libcudart.so.10.1\n",
            "Run 'tensorboard --logdir=runs' to view tensorboard at http://localhost:6006/\n",
            "Model Summary: 225 layers, 6.25895e+07 parameters, 6.25895e+07 gradients\n",
            "Caching labels (3031 found, 131 missing, 38 empty, 0 duplicate, for 3200 images): 100% 3200/3200 [00:03<00:00, 891.64it/s]\n",
            "Caching images (0.4GB): 100% 3200/3200 [00:29<00:00, 110.07it/s]\n",
            "Caching labels (298 found, 14 missing, 7 empty, 0 duplicate, for 319 images): 100% 319/319 [00:00<00:00, 1018.25it/s]\n",
            "Caching images (0.0GB): 100% 319/319 [00:04<00:00, 79.39it/s]\n",
            "Image sizes 256 - 256 train, 256 test\n",
            "Using 4 dataloader workers\n",
            "Starting training for 30 epochs...\n",
            "\n",
            "     Epoch   gpu_mem      GIoU       obj       cls     total   targets  img_size\n",
            "  0% 0/50 [00:00<?, ?it/s]/usr/local/lib/python3.6/dist-packages/torch/cuda/memory.py:346: FutureWarning: torch.cuda.memory_cached has been renamed to torch.cuda.memory_reserved\n",
            "  FutureWarning)\n",
            "      0/29     11.5G      8.03      9.48      3.43        21       412       256:   2% 1/50 [00:04<03:25,  4.20s/it]/usr/local/lib/python3.6/dist-packages/torch/cuda/memory.py:346: FutureWarning: torch.cuda.memory_cached has been renamed to torch.cuda.memory_reserved\n",
            "  FutureWarning)\n",
            "      0/29     11.5G      6.95      7.61      2.98      17.5       532       256: 100% 50/50 [00:30<00:00,  1.63it/s]\n",
            "               Class    Images   Targets         P         R   mAP@0.5        F1:   0% 0/5 [00:00<?, ?it/s]/content/gdrive/My Drive/YoloV3/utils/utils.py:530: UserWarning: This overload of nonzero is deprecated:\n",
            "\tnonzero()\n",
            "Consider using one of the following signatures instead:\n",
            "\tnonzero(*, bool as_tuple) (Triggered internally at  /pytorch/torch/csrc/utils/python_arg_parser.cpp:766.)\n",
            "  i, j = (x[:, 5:] > conf_thres).nonzero().t()\n",
            "               Class    Images   Targets         P         R   mAP@0.5        F1: 100% 5/5 [00:06<00:00,  1.32s/it]\n",
            "                 all       319  1.55e+03    0.0452     0.237    0.0363    0.0541\n",
            "\n",
            "     Epoch   gpu_mem      GIoU       obj       cls     total   targets  img_size\n",
            "  0% 0/50 [00:00<?, ?it/s]/usr/local/lib/python3.6/dist-packages/torch/cuda/memory.py:346: FutureWarning: torch.cuda.memory_cached has been renamed to torch.cuda.memory_reserved\n",
            "  FutureWarning)\n",
            "      1/29     11.5G      6.54      4.73       2.1      13.4       446       256: 100% 50/50 [00:27<00:00,  1.83it/s]\n",
            "               Class    Images   Targets         P         R   mAP@0.5        F1: 100% 5/5 [00:03<00:00,  1.33it/s]\n",
            "                 all       319  1.55e+03    0.0447      0.44    0.0568    0.0809\n",
            "\n",
            "     Epoch   gpu_mem      GIoU       obj       cls     total   targets  img_size\n",
            "      2/29     11.5G       5.8      3.91       1.6      11.3       419       256: 100% 50/50 [00:27<00:00,  1.82it/s]\n",
            "               Class    Images   Targets         P         R   mAP@0.5        F1: 100% 5/5 [00:02<00:00,  1.83it/s]\n",
            "                 all       319  1.55e+03    0.0164    0.0636    0.0079    0.0235\n",
            "\n",
            "     Epoch   gpu_mem      GIoU       obj       cls     total   targets  img_size\n",
            "      3/29     11.5G         5      3.49      1.29      9.77       476       256: 100% 50/50 [00:27<00:00,  1.83it/s]\n",
            "               Class    Images   Targets         P         R   mAP@0.5        F1: 100% 5/5 [00:03<00:00,  1.63it/s]\n",
            "                 all       319  1.55e+03     0.167     0.633     0.278     0.264\n",
            "\n",
            "     Epoch   gpu_mem      GIoU       obj       cls     total   targets  img_size\n",
            "      4/29     11.5G      4.37      3.18      1.12      8.67       435       256: 100% 50/50 [00:27<00:00,  1.83it/s]\n",
            "               Class    Images   Targets         P         R   mAP@0.5        F1: 100% 5/5 [00:03<00:00,  1.62it/s]\n",
            "                 all       319  1.55e+03     0.257     0.667     0.415     0.368\n",
            "\n",
            "     Epoch   gpu_mem      GIoU       obj       cls     total   targets  img_size\n",
            "      5/29     11.5G      4.12      3.08      1.06      8.27       419       256: 100% 50/50 [00:27<00:00,  1.83it/s]\n",
            "               Class    Images   Targets         P         R   mAP@0.5        F1: 100% 5/5 [00:03<00:00,  1.66it/s]\n",
            "                 all       319  1.55e+03      0.33     0.656     0.433     0.439\n",
            "\n",
            "     Epoch   gpu_mem      GIoU       obj       cls     total   targets  img_size\n",
            "      6/29     11.5G      3.83       2.9      1.03      7.76       431       256: 100% 50/50 [00:27<00:00,  1.83it/s]\n",
            "               Class    Images   Targets         P         R   mAP@0.5        F1: 100% 5/5 [00:02<00:00,  1.70it/s]\n",
            "                 all       319  1.55e+03     0.344     0.596     0.414     0.432\n",
            "\n",
            "     Epoch   gpu_mem      GIoU       obj       cls     total   targets  img_size\n",
            "      7/29     11.5G       3.4      2.89     0.971      7.26       406       256: 100% 50/50 [00:27<00:00,  1.83it/s]\n",
            "               Class    Images   Targets         P         R   mAP@0.5        F1: 100% 5/5 [00:03<00:00,  1.62it/s]\n",
            "                 all       319  1.55e+03     0.281     0.677      0.43     0.395\n",
            "\n",
            "     Epoch   gpu_mem      GIoU       obj       cls     total   targets  img_size\n",
            "      8/29     11.5G      3.18      2.76     0.885      6.83       429       256: 100% 50/50 [00:27<00:00,  1.83it/s]\n",
            "               Class    Images   Targets         P         R   mAP@0.5        F1: 100% 5/5 [00:02<00:00,  1.77it/s]\n",
            "                 all       319  1.55e+03     0.398     0.654     0.482     0.493\n",
            "\n",
            "     Epoch   gpu_mem      GIoU       obj       cls     total   targets  img_size\n",
            "      9/29     11.5G      2.93      2.71      0.87      6.51       348       256: 100% 50/50 [00:27<00:00,  1.84it/s]\n",
            "               Class    Images   Targets         P         R   mAP@0.5        F1: 100% 5/5 [00:02<00:00,  1.74it/s]\n",
            "                 all       319  1.55e+03     0.435     0.655     0.507      0.52\n",
            "\n",
            "     Epoch   gpu_mem      GIoU       obj       cls     total   targets  img_size\n",
            "  0% 0/50 [00:00<?, ?it/s]\n",
            "Model Bias Summary:    layer        regression        objectness    classification\n",
            "                          89      -0.23+/-0.28      -4.16+/-3.42      -1.64+/-1.01 \n",
            "                         101      -0.06+/-0.26      -2.74+/-0.67      -1.63+/-0.67 \n",
            "                         113       0.12+/-0.27      -3.71+/-0.80      -1.59+/-0.43 \n",
            "     10/29     11.5G      2.74      2.69     0.853      6.28       364       256: 100% 50/50 [00:27<00:00,  1.83it/s]\n",
            "               Class    Images   Targets         P         R   mAP@0.5        F1: 100% 5/5 [00:02<00:00,  1.72it/s]\n",
            "                 all       319  1.55e+03     0.461     0.635     0.508      0.53\n",
            "\n",
            "     Epoch   gpu_mem      GIoU       obj       cls     total   targets  img_size\n",
            "     11/29     11.5G      2.62       2.6     0.774         6       372       256: 100% 50/50 [00:27<00:00,  1.83it/s]\n",
            "               Class    Images   Targets         P         R   mAP@0.5        F1: 100% 5/5 [00:02<00:00,  1.79it/s]\n",
            "                 all       319  1.55e+03     0.473     0.652     0.518     0.545\n",
            "\n",
            "     Epoch   gpu_mem      GIoU       obj       cls     total   targets  img_size\n",
            "     12/29     11.5G      2.59      2.51     0.742      5.85       439       256: 100% 50/50 [00:27<00:00,  1.83it/s]\n",
            "               Class    Images   Targets         P         R   mAP@0.5        F1: 100% 5/5 [00:02<00:00,  1.77it/s]\n",
            "                 all       319  1.55e+03     0.478     0.673      0.53     0.558\n",
            "\n",
            "     Epoch   gpu_mem      GIoU       obj       cls     total   targets  img_size\n",
            "     13/29     11.5G      2.48      2.44     0.654      5.57       353       256: 100% 50/50 [00:27<00:00,  1.83it/s]\n",
            "               Class    Images   Targets         P         R   mAP@0.5        F1: 100% 5/5 [00:02<00:00,  1.80it/s]\n",
            "                 all       319  1.55e+03      0.48     0.649     0.518      0.55\n",
            "\n",
            "     Epoch   gpu_mem      GIoU       obj       cls     total   targets  img_size\n",
            "     14/29     11.5G      2.36      2.37     0.649      5.38       441       256: 100% 50/50 [00:27<00:00,  1.83it/s]\n",
            "               Class    Images   Targets         P         R   mAP@0.5        F1: 100% 5/5 [00:02<00:00,  1.81it/s]\n",
            "                 all       319  1.55e+03     0.485     0.627     0.509     0.546\n",
            "\n",
            "     Epoch   gpu_mem      GIoU       obj       cls     total   targets  img_size\n",
            "     15/29     11.5G      2.39      2.38     0.606      5.38       386       256: 100% 50/50 [00:27<00:00,  1.82it/s]\n",
            "               Class    Images   Targets         P         R   mAP@0.5        F1: 100% 5/5 [00:02<00:00,  1.86it/s]\n",
            "                 all       319  1.55e+03     0.484     0.591     0.478      0.53\n",
            "\n",
            "     Epoch   gpu_mem      GIoU       obj       cls     total   targets  img_size\n",
            "     16/29     11.5G      2.32      2.33     0.589      5.24       390       256: 100% 50/50 [00:27<00:00,  1.83it/s]\n",
            "               Class    Images   Targets         P         R   mAP@0.5        F1: 100% 5/5 [00:02<00:00,  1.73it/s]\n",
            "                 all       319  1.55e+03     0.527     0.633     0.518     0.572\n",
            "\n",
            "     Epoch   gpu_mem      GIoU       obj       cls     total   targets  img_size\n",
            "     17/29     11.5G      2.24       2.3     0.501      5.04       438       256: 100% 50/50 [00:27<00:00,  1.83it/s]\n",
            "               Class    Images   Targets         P         R   mAP@0.5        F1: 100% 5/5 [00:02<00:00,  1.82it/s]\n",
            "                 all       319  1.55e+03     0.528     0.656     0.538     0.583\n",
            "\n",
            "     Epoch   gpu_mem      GIoU       obj       cls     total   targets  img_size\n",
            "     18/29     11.5G      2.17      2.22     0.457      4.85       449       256: 100% 50/50 [00:27<00:00,  1.82it/s]\n",
            "               Class    Images   Targets         P         R   mAP@0.5        F1: 100% 5/5 [00:02<00:00,  1.74it/s]\n",
            "                 all       319  1.55e+03      0.52     0.654     0.522     0.577\n",
            "\n",
            "     Epoch   gpu_mem      GIoU       obj       cls     total   targets  img_size\n",
            "     19/29     11.5G      2.11      2.13      0.46      4.69       432       256: 100% 50/50 [00:27<00:00,  1.83it/s]\n",
            "               Class    Images   Targets         P         R   mAP@0.5        F1: 100% 5/5 [00:02<00:00,  1.85it/s]\n",
            "                 all       319  1.55e+03     0.558     0.649     0.541     0.598\n",
            "\n",
            "     Epoch   gpu_mem      GIoU       obj       cls     total   targets  img_size\n",
            "     20/29     11.5G      2.04      2.11      0.41      4.56       513       256: 100% 50/50 [00:27<00:00,  1.83it/s]\n",
            "               Class    Images   Targets         P         R   mAP@0.5        F1: 100% 5/5 [00:02<00:00,  1.77it/s]\n",
            "                 all       319  1.55e+03     0.535     0.662     0.537      0.59\n",
            "\n",
            "     Epoch   gpu_mem      GIoU       obj       cls     total   targets  img_size\n",
            "     21/29     11.5G      1.99      2.02     0.381      4.39       460       256: 100% 50/50 [00:27<00:00,  1.83it/s]\n",
            "               Class    Images   Targets         P         R   mAP@0.5        F1: 100% 5/5 [00:02<00:00,  1.84it/s]\n",
            "                 all       319  1.55e+03     0.538     0.648     0.535     0.586\n",
            "\n",
            "     Epoch   gpu_mem      GIoU       obj       cls     total   targets  img_size\n",
            "     22/29     11.5G      1.96      1.99     0.347       4.3       486       256: 100% 50/50 [00:27<00:00,  1.83it/s]\n",
            "               Class    Images   Targets         P         R   mAP@0.5        F1: 100% 5/5 [00:02<00:00,  1.86it/s]\n",
            "                 all       319  1.55e+03     0.533     0.658     0.531     0.587\n",
            "\n",
            "     Epoch   gpu_mem      GIoU       obj       cls     total   targets  img_size\n",
            "     23/29     11.5G      1.93      1.99     0.311      4.22       413       256: 100% 50/50 [00:27<00:00,  1.83it/s]\n",
            "               Class    Images   Targets         P         R   mAP@0.5        F1: 100% 5/5 [00:02<00:00,  1.76it/s]\n",
            "                 all       319  1.55e+03     0.547     0.646     0.534     0.591\n",
            "\n",
            "     Epoch   gpu_mem      GIoU       obj       cls     total   targets  img_size\n",
            "     24/29     11.5G       1.9      1.93     0.279      4.11       384       256: 100% 50/50 [00:27<00:00,  1.83it/s]\n",
            "               Class    Images   Targets         P         R   mAP@0.5        F1: 100% 5/5 [00:02<00:00,  1.83it/s]\n",
            "                 all       319  1.55e+03     0.544     0.655     0.537     0.593\n",
            "\n",
            "     Epoch   gpu_mem      GIoU       obj       cls     total   targets  img_size\n",
            "     25/29     11.5G      1.89      1.96     0.281      4.13       405       256: 100% 50/50 [00:27<00:00,  1.83it/s]\n",
            "               Class    Images   Targets         P         R   mAP@0.5        F1: 100% 5/5 [00:02<00:00,  1.82it/s]\n",
            "                 all       319  1.55e+03     0.532     0.652     0.536     0.584\n",
            "\n",
            "     Epoch   gpu_mem      GIoU       obj       cls     total   targets  img_size\n",
            "     26/29     11.5G      1.85       1.9     0.264      4.02       390       256: 100% 50/50 [00:27<00:00,  1.83it/s]\n",
            "               Class    Images   Targets         P         R   mAP@0.5        F1: 100% 5/5 [00:02<00:00,  1.76it/s]\n",
            "                 all       319  1.55e+03     0.548     0.648     0.539     0.592\n",
            "\n",
            "     Epoch   gpu_mem      GIoU       obj       cls     total   targets  img_size\n",
            "     27/29     11.5G      1.81      1.89     0.266      3.97       399       256: 100% 50/50 [00:27<00:00,  1.84it/s]\n",
            "               Class    Images   Targets         P         R   mAP@0.5        F1: 100% 5/5 [00:02<00:00,  1.73it/s]\n",
            "                 all       319  1.55e+03     0.542     0.651     0.536      0.59\n",
            "\n",
            "     Epoch   gpu_mem      GIoU       obj       cls     total   targets  img_size\n",
            "     28/29     11.5G      1.82      1.93     0.242      3.99       416       256: 100% 50/50 [00:27<00:00,  1.83it/s]\n",
            "               Class    Images   Targets         P         R   mAP@0.5        F1: 100% 5/5 [00:02<00:00,  1.81it/s]\n",
            "                 all       319  1.55e+03     0.545     0.647     0.535      0.59\n",
            "\n",
            "     Epoch   gpu_mem      GIoU       obj       cls     total   targets  img_size\n",
            "     29/29     11.5G       1.8      1.87     0.225      3.89       377       256: 100% 50/50 [00:27<00:00,  1.83it/s]\n",
            "               Class    Images   Targets         P         R   mAP@0.5        F1: 100% 5/5 [00:02<00:00,  1.80it/s]\n",
            "                 all       319  1.55e+03     0.551      0.65     0.537     0.595\n",
            "30 epochs completed in 0.283 hours.\n",
            "\n"
          ],
          "name": "stdout"
        }
      ]
    },
    {
      "cell_type": "code",
      "metadata": {
        "id": "8-0P8nDg4CJj",
        "outputId": "ac71fd8a-b9f1-416d-830e-338a5313c096",
        "colab": {
          "base_uri": "https://localhost:8080/",
          "height": 34
        }
      },
      "source": [
        "(end - start)//60, (end - start)%60"
      ],
      "execution_count": null,
      "outputs": [
        {
          "output_type": "execute_result",
          "data": {
            "text/plain": [
              "(17.0, 46.015568356000585)"
            ]
          },
          "metadata": {
            "tags": []
          },
          "execution_count": 19
        }
      ]
    },
    {
      "cell_type": "code",
      "metadata": {
        "id": "P6GodVwF4CRF"
      },
      "source": [
        ""
      ],
      "execution_count": null,
      "outputs": []
    },
    {
      "cell_type": "markdown",
      "metadata": {
        "id": "1fyPRee0U1Ik"
      },
      "source": [
        "# Running for 70 epochs on default(*512*) image size"
      ]
    },
    {
      "cell_type": "code",
      "metadata": {
        "id": "xKjyIV1goFoD",
        "outputId": "e89e0bbf-c43a-4791-ede2-de9601712c54",
        "colab": {
          "base_uri": "https://localhost:8080/",
          "height": 1000
        }
      },
      "source": [
        "start = perf_counter()\n",
        "!python train.py --data data/customdata/custom.data --batch 24 --cache --cfg cfg/yolov3-custom.cfg --epochs 100 --resume\n",
        "end = perf_counter()"
      ],
      "execution_count": null,
      "outputs": [
        {
          "output_type": "stream",
          "text": [
            "Namespace(accumulate=4, adam=False, batch_size=24, bucket='', cache_images=True, cfg='cfg/yolov3-custom.cfg', data='data/customdata/custom.data', device='', epochs=100, evolve=False, img_size=[512], multi_scale=False, name='', nosave=False, notest=False, rect=False, resume=True, single_cls=False, weights='weights/last.pt')\n",
            "Using CUDA device0 _CudaDeviceProperties(name='Tesla P100-PCIE-16GB', total_memory=16280MB)\n",
            "\n",
            "2020-10-28 17:09:39.184854: I tensorflow/stream_executor/platform/default/dso_loader.cc:48] Successfully opened dynamic library libcudart.so.10.1\n",
            "Run 'tensorboard --logdir=runs' to view tensorboard at http://localhost:6006/\n",
            "Model Summary: 225 layers, 6.25895e+07 parameters, 6.25895e+07 gradients\n",
            "Caching labels (3031 found, 131 missing, 38 empty, 0 duplicate, for 3200 images): 100% 3200/3200 [00:02<00:00, 1100.85it/s]\n",
            "Caching images (1.8GB): 100% 3200/3200 [00:28<00:00, 113.68it/s]\n",
            "Caching labels (298 found, 14 missing, 7 empty, 0 duplicate, for 319 images): 100% 319/319 [00:00<00:00, 1158.04it/s]\n",
            "Caching images (0.1GB): 100% 319/319 [00:03<00:00, 83.60it/s]\n",
            "Image sizes 512 - 512 train, 512 test\n",
            "Using 4 dataloader workers\n",
            "Starting training for 100 epochs...\n",
            "\n",
            "     Epoch   gpu_mem      GIoU       obj       cls     total   targets  img_size\n",
            "  0% 0/134 [00:00<?, ?it/s]/usr/local/lib/python3.6/dist-packages/torch/cuda/memory.py:346: FutureWarning: torch.cuda.memory_cached has been renamed to torch.cuda.memory_reserved\n",
            "  FutureWarning)\n",
            "     60/99     15.8G      1.51     0.663    0.0584      2.23        58       512: 100% 134/134 [03:15<00:00,  1.46s/it]\n",
            "               Class    Images   Targets         P         R   mAP@0.5        F1:   0% 0/14 [00:00<?, ?it/s]/content/gdrive/My Drive/YoloV3/utils/utils.py:530: UserWarning: This overload of nonzero is deprecated:\n",
            "\tnonzero()\n",
            "Consider using one of the following signatures instead:\n",
            "\tnonzero(*, bool as_tuple) (Triggered internally at  /pytorch/torch/csrc/utils/python_arg_parser.cpp:766.)\n",
            "  i, j = (x[:, 5:] > conf_thres).nonzero().t()\n",
            "               Class    Images   Targets         P         R   mAP@0.5        F1: 100% 14/14 [00:07<00:00,  1.79it/s]\n",
            "                 all       319  1.55e+03     0.573     0.656     0.554     0.611\n",
            "\n",
            "     Epoch   gpu_mem      GIoU       obj       cls     total   targets  img_size\n",
            "  0% 0/134 [00:00<?, ?it/s]/usr/local/lib/python3.6/dist-packages/torch/cuda/memory.py:346: FutureWarning: torch.cuda.memory_cached has been renamed to torch.cuda.memory_reserved\n",
            "  FutureWarning)\n",
            "     61/99     15.9G      1.46     0.627    0.0509      2.13        47       512: 100% 134/134 [03:14<00:00,  1.45s/it]\n",
            "               Class    Images   Targets         P         R   mAP@0.5        F1: 100% 14/14 [00:06<00:00,  2.29it/s]\n",
            "                 all       319  1.55e+03     0.583     0.653      0.55     0.615\n",
            "\n",
            "     Epoch   gpu_mem      GIoU       obj       cls     total   targets  img_size\n",
            "     62/99     15.9G      1.67     0.942      0.11      2.72        59       512: 100% 134/134 [03:14<00:00,  1.45s/it]\n",
            "               Class    Images   Targets         P         R   mAP@0.5        F1: 100% 14/14 [00:06<00:00,  2.29it/s]\n",
            "                 all       319  1.55e+03     0.574     0.678     0.559     0.619\n",
            "\n",
            "     Epoch   gpu_mem      GIoU       obj       cls     total   targets  img_size\n",
            "     63/99     15.9G      1.65     0.928     0.112      2.69        75       512: 100% 134/134 [03:15<00:00,  1.46s/it]\n",
            "               Class    Images   Targets         P         R   mAP@0.5        F1: 100% 14/14 [00:06<00:00,  2.29it/s]\n",
            "                 all       319  1.55e+03     0.543     0.699     0.561      0.61\n",
            "\n",
            "     Epoch   gpu_mem      GIoU       obj       cls     total   targets  img_size\n",
            "     64/99     15.9G      1.61     0.879     0.105      2.59        49       512: 100% 134/134 [03:14<00:00,  1.45s/it]\n",
            "               Class    Images   Targets         P         R   mAP@0.5        F1: 100% 14/14 [00:06<00:00,  2.32it/s]\n",
            "                 all       319  1.55e+03     0.556     0.668     0.553     0.605\n",
            "\n",
            "     Epoch   gpu_mem      GIoU       obj       cls     total   targets  img_size\n",
            "     65/99     15.9G       1.6     0.875     0.108      2.58        29       512: 100% 134/134 [03:14<00:00,  1.45s/it]\n",
            "               Class    Images   Targets         P         R   mAP@0.5        F1: 100% 14/14 [00:06<00:00,  2.30it/s]\n",
            "                 all       319  1.55e+03     0.576     0.662     0.546     0.615\n",
            "\n",
            "     Epoch   gpu_mem      GIoU       obj       cls     total   targets  img_size\n",
            "     66/99     15.9G      1.58     0.866    0.0965      2.54        41       512: 100% 134/134 [03:14<00:00,  1.46s/it]\n",
            "               Class    Images   Targets         P         R   mAP@0.5        F1: 100% 14/14 [00:05<00:00,  2.34it/s]\n",
            "                 all       319  1.55e+03     0.579     0.684     0.568     0.626\n",
            "\n",
            "     Epoch   gpu_mem      GIoU       obj       cls     total   targets  img_size\n",
            "     67/99     15.9G      1.56     0.877     0.104      2.54        49       512: 100% 134/134 [03:14<00:00,  1.45s/it]\n",
            "               Class    Images   Targets         P         R   mAP@0.5        F1: 100% 14/14 [00:05<00:00,  2.34it/s]\n",
            "                 all       319  1.55e+03     0.564     0.677      0.56     0.615\n",
            "\n",
            "     Epoch   gpu_mem      GIoU       obj       cls     total   targets  img_size\n",
            "     68/99     15.9G      1.53     0.837    0.0875      2.46        56       512: 100% 134/134 [03:14<00:00,  1.45s/it]\n",
            "               Class    Images   Targets         P         R   mAP@0.5        F1: 100% 14/14 [00:06<00:00,  2.33it/s]\n",
            "                 all       319  1.55e+03     0.587     0.672     0.559     0.625\n",
            "\n",
            "     Epoch   gpu_mem      GIoU       obj       cls     total   targets  img_size\n",
            "     69/99     15.9G      1.52     0.829    0.0889      2.44        53       512: 100% 134/134 [03:14<00:00,  1.45s/it]\n",
            "               Class    Images   Targets         P         R   mAP@0.5        F1: 100% 14/14 [00:06<00:00,  2.32it/s]\n",
            "                 all       319  1.55e+03     0.598     0.679     0.574     0.635\n",
            "\n",
            "     Epoch   gpu_mem      GIoU       obj       cls     total   targets  img_size\n",
            "     70/99     15.9G      1.49      0.84    0.0832      2.42        41       512: 100% 134/134 [03:14<00:00,  1.45s/it]\n",
            "               Class    Images   Targets         P         R   mAP@0.5        F1: 100% 14/14 [00:05<00:00,  2.35it/s]\n",
            "                 all       319  1.55e+03     0.588     0.667     0.563     0.624\n",
            "\n",
            "     Epoch   gpu_mem      GIoU       obj       cls     total   targets  img_size\n",
            "     71/99     15.9G      1.48     0.825    0.0795      2.38        45       512: 100% 134/134 [03:14<00:00,  1.45s/it]\n",
            "               Class    Images   Targets         P         R   mAP@0.5        F1: 100% 14/14 [00:06<00:00,  2.33it/s]\n",
            "                 all       319  1.55e+03     0.576     0.663     0.551     0.615\n",
            "\n",
            "     Epoch   gpu_mem      GIoU       obj       cls     total   targets  img_size\n",
            "     72/99     15.9G      1.44     0.791    0.0762      2.31        39       512: 100% 134/134 [03:14<00:00,  1.45s/it]\n",
            "               Class    Images   Targets         P         R   mAP@0.5        F1: 100% 14/14 [00:06<00:00,  2.33it/s]\n",
            "                 all       319  1.55e+03      0.61     0.669     0.564     0.637\n",
            "\n",
            "     Epoch   gpu_mem      GIoU       obj       cls     total   targets  img_size\n",
            "     73/99     15.9G      1.42     0.781    0.0721      2.27        53       512: 100% 134/134 [03:14<00:00,  1.45s/it]\n",
            "               Class    Images   Targets         P         R   mAP@0.5        F1: 100% 14/14 [00:06<00:00,  2.32it/s]\n",
            "                 all       319  1.55e+03     0.596     0.677      0.56     0.633\n",
            "\n",
            "     Epoch   gpu_mem      GIoU       obj       cls     total   targets  img_size\n",
            "     74/99     15.9G      1.42     0.775    0.0614      2.26        44       512: 100% 134/134 [03:14<00:00,  1.45s/it]\n",
            "               Class    Images   Targets         P         R   mAP@0.5        F1: 100% 14/14 [00:05<00:00,  2.34it/s]\n",
            "                 all       319  1.55e+03     0.588     0.666     0.554     0.623\n",
            "\n",
            "     Epoch   gpu_mem      GIoU       obj       cls     total   targets  img_size\n",
            "     75/99     15.9G       1.4     0.766    0.0662      2.23        49       512: 100% 134/134 [03:14<00:00,  1.45s/it]\n",
            "               Class    Images   Targets         P         R   mAP@0.5        F1: 100% 14/14 [00:05<00:00,  2.35it/s]\n",
            "                 all       319  1.55e+03     0.595     0.652     0.551     0.622\n",
            "\n",
            "     Epoch   gpu_mem      GIoU       obj       cls     total   targets  img_size\n",
            "     76/99     15.9G       1.4     0.766    0.0671      2.23        58       512: 100% 134/134 [03:14<00:00,  1.45s/it]\n",
            "               Class    Images   Targets         P         R   mAP@0.5        F1: 100% 14/14 [00:06<00:00,  2.33it/s]\n",
            "                 all       319  1.55e+03     0.585     0.654     0.549     0.617\n",
            "\n",
            "     Epoch   gpu_mem      GIoU       obj       cls     total   targets  img_size\n",
            "     77/99     15.9G      1.35     0.774    0.0639      2.19        52       512: 100% 134/134 [03:14<00:00,  1.45s/it]\n",
            "               Class    Images   Targets         P         R   mAP@0.5        F1: 100% 14/14 [00:05<00:00,  2.34it/s]\n",
            "                 all       319  1.55e+03     0.591     0.654     0.554     0.621\n",
            "\n",
            "     Epoch   gpu_mem      GIoU       obj       cls     total   targets  img_size\n",
            "     78/99     15.9G      1.35     0.736    0.0568      2.14        55       512: 100% 134/134 [03:14<00:00,  1.45s/it]\n",
            "               Class    Images   Targets         P         R   mAP@0.5        F1: 100% 14/14 [00:06<00:00,  2.32it/s]\n",
            "                 all       319  1.55e+03      0.61     0.658     0.557     0.632\n",
            "\n",
            "     Epoch   gpu_mem      GIoU       obj       cls     total   targets  img_size\n",
            "     79/99     15.9G      1.35     0.738    0.0585      2.14        53       512: 100% 134/134 [03:14<00:00,  1.45s/it]\n",
            "               Class    Images   Targets         P         R   mAP@0.5        F1: 100% 14/14 [00:05<00:00,  2.34it/s]\n",
            "                 all       319  1.55e+03     0.603     0.657     0.548     0.628\n",
            "\n",
            "     Epoch   gpu_mem      GIoU       obj       cls     total   targets  img_size\n",
            "     80/99     15.9G      1.33     0.726    0.0613      2.12        52       512: 100% 134/134 [03:14<00:00,  1.46s/it]\n",
            "               Class    Images   Targets         P         R   mAP@0.5        F1: 100% 14/14 [00:06<00:00,  2.33it/s]\n",
            "                 all       319  1.55e+03     0.578     0.665     0.552     0.618\n",
            "\n",
            "     Epoch   gpu_mem      GIoU       obj       cls     total   targets  img_size\n",
            "     81/99     15.9G      1.31       0.7    0.0581      2.07        38       512: 100% 134/134 [03:14<00:00,  1.45s/it]\n",
            "               Class    Images   Targets         P         R   mAP@0.5        F1: 100% 14/14 [00:05<00:00,  2.34it/s]\n",
            "                 all       319  1.55e+03     0.592     0.656      0.55     0.622\n",
            "\n",
            "     Epoch   gpu_mem      GIoU       obj       cls     total   targets  img_size\n",
            "     82/99     15.9G       1.3     0.711    0.0529      2.07        67       512: 100% 134/134 [03:14<00:00,  1.45s/it]\n",
            "               Class    Images   Targets         P         R   mAP@0.5        F1: 100% 14/14 [00:05<00:00,  2.34it/s]\n",
            "                 all       319  1.55e+03     0.588     0.649     0.547     0.616\n",
            "\n",
            "     Epoch   gpu_mem      GIoU       obj       cls     total   targets  img_size\n",
            "     83/99     15.9G      1.28     0.701    0.0496      2.03        41       512: 100% 134/134 [03:14<00:00,  1.45s/it]\n",
            "               Class    Images   Targets         P         R   mAP@0.5        F1: 100% 14/14 [00:06<00:00,  2.26it/s]\n",
            "                 all       319  1.55e+03     0.592     0.649     0.547     0.619\n",
            "\n",
            "     Epoch   gpu_mem      GIoU       obj       cls     total   targets  img_size\n",
            "     84/99     15.9G      1.28     0.687    0.0443      2.01        54       512: 100% 134/134 [03:15<00:00,  1.46s/it]\n",
            "               Class    Images   Targets         P         R   mAP@0.5        F1: 100% 14/14 [00:06<00:00,  2.31it/s]\n",
            "                 all       319  1.55e+03     0.599     0.645     0.543     0.621\n",
            "\n",
            "     Epoch   gpu_mem      GIoU       obj       cls     total   targets  img_size\n",
            "     85/99     15.9G      1.28     0.717    0.0444      2.05        74       512: 100% 134/134 [03:15<00:00,  1.46s/it]\n",
            "               Class    Images   Targets         P         R   mAP@0.5        F1: 100% 14/14 [00:06<00:00,  2.31it/s]\n",
            "                 all       319  1.55e+03     0.597     0.652      0.55     0.623\n",
            "\n",
            "     Epoch   gpu_mem      GIoU       obj       cls     total   targets  img_size\n",
            "     86/99     15.9G      1.32     0.772    0.0639      2.16        42       512: 100% 134/134 [03:15<00:00,  1.46s/it]\n",
            "               Class    Images   Targets         P         R   mAP@0.5        F1: 100% 14/14 [00:06<00:00,  2.30it/s]\n",
            "                 all       319  1.55e+03     0.592     0.652     0.545      0.62\n",
            "\n",
            "     Epoch   gpu_mem      GIoU       obj       cls     total   targets  img_size\n",
            "     87/99     15.9G      1.31     0.746     0.079      2.13        45       512: 100% 134/134 [03:15<00:00,  1.46s/it]\n",
            "               Class    Images   Targets         P         R   mAP@0.5        F1: 100% 14/14 [00:06<00:00,  2.33it/s]\n",
            "                 all       319  1.55e+03       0.6     0.654     0.553     0.626\n",
            "\n",
            "     Epoch   gpu_mem      GIoU       obj       cls     total   targets  img_size\n",
            "     88/99     15.9G      1.31     0.772    0.0643      2.14        63       512: 100% 134/134 [03:15<00:00,  1.46s/it]\n",
            "               Class    Images   Targets         P         R   mAP@0.5        F1: 100% 14/14 [00:06<00:00,  2.32it/s]\n",
            "                 all       319  1.55e+03     0.603     0.651     0.548     0.625\n",
            "\n",
            "     Epoch   gpu_mem      GIoU       obj       cls     total   targets  img_size\n",
            "     89/99     15.9G      1.28     0.744    0.0667      2.09        41       512: 100% 134/134 [03:15<00:00,  1.46s/it]\n",
            "               Class    Images   Targets         P         R   mAP@0.5        F1: 100% 14/14 [00:06<00:00,  2.30it/s]\n",
            "                 all       319  1.55e+03     0.591     0.647     0.549     0.617\n",
            "\n",
            "     Epoch   gpu_mem      GIoU       obj       cls     total   targets  img_size\n",
            "     90/99     15.9G      1.28     0.737    0.0657      2.08        38       512: 100% 134/134 [03:15<00:00,  1.46s/it]\n",
            "               Class    Images   Targets         P         R   mAP@0.5        F1: 100% 14/14 [00:06<00:00,  2.31it/s]\n",
            "                 all       319  1.55e+03     0.594     0.647     0.549     0.619\n",
            "\n",
            "     Epoch   gpu_mem      GIoU       obj       cls     total   targets  img_size\n",
            "     91/99     15.9G      1.26     0.736     0.066      2.07        56       512: 100% 134/134 [03:15<00:00,  1.46s/it]\n",
            "               Class    Images   Targets         P         R   mAP@0.5        F1: 100% 14/14 [00:06<00:00,  2.30it/s]\n",
            "                 all       319  1.55e+03     0.586     0.653     0.549     0.617\n",
            "\n",
            "     Epoch   gpu_mem      GIoU       obj       cls     total   targets  img_size\n",
            "     92/99     15.9G      1.27     0.735    0.0718      2.08        64       512: 100% 134/134 [03:15<00:00,  1.46s/it]\n",
            "               Class    Images   Targets         P         R   mAP@0.5        F1: 100% 14/14 [00:06<00:00,  2.31it/s]\n",
            "                 all       319  1.55e+03       0.6     0.659     0.558     0.627\n",
            "\n",
            "     Epoch   gpu_mem      GIoU       obj       cls     total   targets  img_size\n",
            "     93/99     15.9G      1.28     0.737    0.0612      2.08        57       512: 100% 134/134 [03:15<00:00,  1.46s/it]\n",
            "               Class    Images   Targets         P         R   mAP@0.5        F1: 100% 14/14 [00:06<00:00,  2.30it/s]\n",
            "                 all       319  1.55e+03     0.601      0.66     0.553     0.629\n",
            "\n",
            "     Epoch   gpu_mem      GIoU       obj       cls     total   targets  img_size\n",
            "     94/99     15.9G      1.26     0.715    0.0663      2.04        50       512: 100% 134/134 [03:15<00:00,  1.46s/it]\n",
            "               Class    Images   Targets         P         R   mAP@0.5        F1: 100% 14/14 [00:06<00:00,  2.32it/s]\n",
            "                 all       319  1.55e+03     0.596     0.657     0.552     0.625\n",
            "\n",
            "     Epoch   gpu_mem      GIoU       obj       cls     total   targets  img_size\n",
            "     95/99     15.9G      1.25     0.742    0.0564      2.05        46       512: 100% 134/134 [03:15<00:00,  1.46s/it]\n",
            "               Class    Images   Targets         P         R   mAP@0.5        F1: 100% 14/14 [00:06<00:00,  2.32it/s]\n",
            "                 all       319  1.55e+03     0.591     0.654     0.551      0.62\n",
            "\n",
            "     Epoch   gpu_mem      GIoU       obj       cls     total   targets  img_size\n",
            "     96/99     15.9G      1.24     0.724     0.058      2.02        38       512: 100% 134/134 [03:15<00:00,  1.46s/it]\n",
            "               Class    Images   Targets         P         R   mAP@0.5        F1: 100% 14/14 [00:06<00:00,  2.30it/s]\n",
            "                 all       319  1.55e+03     0.594     0.652     0.546     0.621\n",
            "\n",
            "     Epoch   gpu_mem      GIoU       obj       cls     total   targets  img_size\n",
            "     97/99     15.9G      1.24      0.73    0.0631      2.03        57       512: 100% 134/134 [03:15<00:00,  1.46s/it]\n",
            "               Class    Images   Targets         P         R   mAP@0.5        F1: 100% 14/14 [00:06<00:00,  2.31it/s]\n",
            "                 all       319  1.55e+03     0.604     0.646     0.548     0.624\n",
            "\n",
            "     Epoch   gpu_mem      GIoU       obj       cls     total   targets  img_size\n",
            "     98/99     15.9G      1.23     0.702    0.0526      1.98        45       512: 100% 134/134 [03:15<00:00,  1.46s/it]\n",
            "               Class    Images   Targets         P         R   mAP@0.5        F1: 100% 14/14 [00:06<00:00,  2.31it/s]\n",
            "                 all       319  1.55e+03     0.594     0.648     0.545     0.619\n",
            "\n",
            "     Epoch   gpu_mem      GIoU       obj       cls     total   targets  img_size\n",
            "     99/99     15.9G      1.24     0.716    0.0597      2.01        63       512: 100% 134/134 [03:15<00:00,  1.46s/it]\n",
            "               Class    Images   Targets         P         R   mAP@0.5        F1: 100% 14/14 [00:06<00:00,  2.33it/s]\n",
            "                 all       319  1.55e+03     0.598     0.649     0.544     0.622\n",
            "40 epochs completed in 2.262 hours.\n",
            "\n"
          ],
          "name": "stdout"
        }
      ]
    },
    {
      "cell_type": "code",
      "metadata": {
        "id": "dyqO5VhNoFrk",
        "outputId": "1a28cf28-095c-47f2-ed31-c4e25053ac05",
        "colab": {
          "base_uri": "https://localhost:8080/",
          "height": 34
        }
      },
      "source": [
        "print(f'{(end - start)//60} minutes and  {(end - start)%60} seconds')"
      ],
      "execution_count": null,
      "outputs": [
        {
          "output_type": "stream",
          "text": [
            "136.0 minutes and  26.821275653000157 seconds\n"
          ],
          "name": "stdout"
        }
      ]
    },
    {
      "cell_type": "code",
      "metadata": {
        "id": "-76ZkvZLoFzg"
      },
      "source": [
        ""
      ],
      "execution_count": null,
      "outputs": []
    },
    {
      "cell_type": "code",
      "metadata": {
        "id": "knjE5_gfoF1y"
      },
      "source": [
        "# start = perf_counter()\n",
        "# !python train.py --data data/customdata/custom.data --batch 24 --cache --cfg cfg/yolov3-custom.cfg --epochs 10 --resume --img-size 256\n",
        "# end = perf_counter()\n",
        "# print(f'{(end - start)//60} minutes and  {(end - start)%60} seconds')"
      ],
      "execution_count": null,
      "outputs": []
    },
    {
      "cell_type": "code",
      "metadata": {
        "id": "31oeHX0u2Vwd"
      },
      "source": [
        "!python detect.py --conf-thres 0.35 --output out_new_4 --source '/content/gdrive/My Drive/input_files/'"
      ],
      "execution_count": null,
      "outputs": []
    },
    {
      "cell_type": "code",
      "metadata": {
        "id": "HEg3-v5r9Z8e"
      },
      "source": [
        ""
      ],
      "execution_count": null,
      "outputs": []
    }
  ]
}